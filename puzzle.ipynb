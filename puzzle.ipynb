{
 "cells": [
  {
   "cell_type": "code",
   "execution_count": 1,
   "metadata": {},
   "outputs": [],
   "source": [
    "import fileinput\n",
    "import os"
   ]
  },
  {
   "cell_type": "code",
   "execution_count": 6,
   "metadata": {},
   "outputs": [],
   "source": [
    "os.chdir('/Users/HQ/orange/Reza/puzzle/PZ39/submission/')"
   ]
  },
  {
   "cell_type": "code",
   "execution_count": 7,
   "metadata": {},
   "outputs": [],
   "source": [
    "order = ['6909', '18282', '22954', '23565', 'server', '11413', '7114', '15490', '8107', 'meld']\n",
    "order = '1,2,3,4,5,6,7,8,9,10'.split(',')"
   ]
  },
  {
   "cell_type": "code",
   "execution_count": 10,
   "metadata": {},
   "outputs": [
    {
     "name": "stdout",
     "output_type": "stream",
     "text": [
      "19080\n",
      "10\n"
     ]
    }
   ],
   "source": [
    "template = []\n",
    "with open('template.pdb') as temp:\n",
    "    for line in temp.readlines():\n",
    "        template.append(line)\n",
    "temp.close()\n",
    "\n",
    "premodel = []\n",
    "for i in order:\n",
    "    with open(i+'.pdb', 'r') as cluster:\n",
    "        for line in cluster.readlines():\n",
    "            if not line.startswith('END') and 'WAT' not in line and 'Cl-' not in line and 'K+' not in line and 'Na+' not in line and line.split()[-1]!='H':\n",
    "                premodel.append(line)\n",
    "    cluster.close()\n",
    "\n",
    "print(len(premodel))\n",
    "    \n",
    "with open('premodel.pdb', 'w') as outfile:\n",
    "    for line in premodel:\n",
    "        outfile.write(line)\n",
    "outfile.close()\n",
    "    \n",
    "final = []\n",
    "for i in range(len(template)):\n",
    "    if template[i].startswith('END') or template[i].startswith('TER'):\n",
    "        final.append(template[i])\n",
    "    elif template[i].startswith('MODEL'):\n",
    "        final.append(template[i])\n",
    "        final.append('''ATOM      1  P     G A   1       0.000   0.000   0.000  1.00  0.00           P\n",
    "ATOM      2  OP1   G A   1       0.000   0.000   0.000  1.00  0.00           O\n",
    "ATOM      3  OP2   G A   1       0.000   0.000   0.000  1.00  0.00           O\n",
    "''')\n",
    "    else:\n",
    "        for line in premodel:\n",
    "            if line.split()[2] == template[i].split()[2] and line.split()[4] == template[i].split()[5]:\n",
    "                final.append(template[i][:31]+line[31:])\n",
    "                premodel.remove(line)\n",
    "                break\n",
    "                \n",
    "with open('final.pdb', 'w') as submission:\n",
    "    for i in final:\n",
    "        submission.write(i)\n",
    "submission.close()\n",
    "\n",
    "print(len(premodel))"
   ]
  },
  {
   "cell_type": "code",
   "execution_count": null,
   "metadata": {},
   "outputs": [],
   "source": []
  }
 ],
 "metadata": {
  "kernelspec": {
   "display_name": "Python 3",
   "language": "python",
   "name": "python3"
  },
  "language_info": {
   "codemirror_mode": {
    "name": "ipython",
    "version": 3
   },
   "file_extension": ".py",
   "mimetype": "text/x-python",
   "name": "python",
   "nbconvert_exporter": "python",
   "pygments_lexer": "ipython3",
   "version": "3.9.15"
  },
  "vscode": {
   "interpreter": {
    "hash": "a665b5d41d17b532ea9890333293a1b812fa0b73c9c25c950b3cedf1bebd0438"
   }
  }
 },
 "nbformat": 4,
 "nbformat_minor": 4
}
