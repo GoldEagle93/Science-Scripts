{
 "cells": [
  {
   "cell_type": "code",
   "execution_count": 2,
   "metadata": {},
   "outputs": [],
   "source": [
    "import os\n",
    "\n",
    "source = '/Users/HQ/orange/Reza/TF/NAR/' #14-two-sided-dummy-contacts/'\n",
    "systems = sorted([i for i in os.listdir(source) if '.' not in i])\n",
    "systems = ['1a74', '1azp', '1by4', '1bgb',  '2b0d', '1cdw', '1dh3', '1jj4', '1r4o', '1r4r', '1zme', '2dgc', '2r1j', '3cro', '1ysa', '2dgc']\n",
    "\n",
    "def determine_DNA_length(pdb):\n",
    "    c = 0\n",
    "    NAs = 'DA DT DC DG DA5 DT5 DC5 DG5 DA3 DT3 DC3 DG3'.split(' ')\n",
    "    AAs = 'ALA ARG ASP ASN CYS GLU GLY HIS HIE HID ISO LEU LYS MET PHE PRO SER THR TRY TYR VAL SEL'.split(' ')\n",
    "    for line in range(len(temp)):\n",
    "        if \" O5'\" in temp[line] and temp[line].split()[3] in NAs:\n",
    "            chimera_command = 'select '\n",
    "            # pyperclip.copy('The')\n",
    "            c+=1\n",
    "    return c\n",
    "\n",
    "for system in systems:\n",
    "    os.chdir(source+system+'/14-two-sided-dummy-contacts/')\n",
    "    rmsd = open('rmsd00.cpptraj', 'r').readlines()\n",
    "    temp = open('TEMPLATES/'+system+'-BDNA.pdb', 'r').readlines()\n",
    "    mask = sorted([int(j) for j in [i for i in rmsd if 'rms traj00 ref [ref] :' in i][0].split(':')[1].split('@')[0].split(',')])\n",
    "    DNA_length = determine_DNA_length(temp)\n",
    "    DNA_mask = ' '.join([str(min([i for i in mask if i <= DNA_length])), str(max([i for i in mask if i <= DNA_length]))])+' 1'\n",
    "    protein_mask = ' '.join([str(min([i for i in mask if i > DNA_length])), str(max([i for i in mask if i > DNA_length]))])+' 1'\n",
    "\n",
    "    with open('cluster-liwei.sh', 'w') as outfile:\n",
    "        outfile.write('''#!/bin/bash\n",
    "#SBATCH --job-name=licls-%s\n",
    "#SBATCH --output=err-cpu.out\n",
    "#SBATCH --error=err-cpu.err\n",
    "#SBATCH --mail-type=ALL\n",
    "#SBATCH --mail-user=reza.esmaeeli@ufl.edu\n",
    "#SBATCH --time=96:00:00\n",
    "#SBATCH --ntasks=16\n",
    "#SBATCH --cpus-per-task=1\n",
    "#SBATCH --ntasks-per-node=8\n",
    "#SBATCH --distribution=cyclic:cyclic\n",
    "#SBATCH --mem-per-cpu=32000mb\n",
    "#SBATCH --qos=alberto.perezant\n",
    "\n",
    "cd $SLURM_SUBMIT_DIR\n",
    "\n",
    "export OMP_NUM_THREADS=16\n",
    "\n",
    "module purge\n",
    "ml cuda/11.0.207 gcc/9.3.0 openmpi/4.0.4 mkl/2020.0.166 meld/0.4.19\n",
    "\n",
    "# python ~/Scripts/density_clustering.py -traj trajectory.00.dcd trajectory.01.dcd trajectory.02.dcd trajectory.03.dcd trajectory.04.dcd -top topol.prmtop -sieve 20 20 20 20 20 -inter %%s %%s -inter_cutoff 0.5 -start 10000 10000 10000 10000 10000 -end 20000 20000 20000 20000 20000\n",
    "python ~/Scripts/density_clustering.py -traj trajectory.00.dcd -top topol.prmtop -sieve 20 20 20 20 20 -inter %s %s -inter_cutoff 0.5 -start 10000 -end 20000\n",
    "\n",
    "'''%(system.upper(), DNA_mask, protein_mask))\n",
    "    outfile.close()\n"
   ]
  },
  {
   "cell_type": "code",
   "execution_count": 19,
   "metadata": {},
   "outputs": [
    {
     "data": {
      "text/plain": [
       "'39 62 1'"
      ]
     },
     "execution_count": 19,
     "metadata": {},
     "output_type": "execute_result"
    }
   ],
   "source": [
    "protein_mask"
   ]
  },
  {
   "cell_type": "code",
   "execution_count": 20,
   "metadata": {},
   "outputs": [
    {
     "data": {
      "text/plain": [
       "[1, 3, 4, 15, 39, 40, 41, 42, 43, 44, 45, 46, 47, 48, 49, 58, 59, 60, 61, 62]"
      ]
     },
     "execution_count": 20,
     "metadata": {},
     "output_type": "execute_result"
    }
   ],
   "source": [
    "mask"
   ]
  },
  {
   "cell_type": "code",
   "execution_count": null,
   "metadata": {},
   "outputs": [],
   "source": []
  }
 ],
 "metadata": {
  "kernelspec": {
   "display_name": "Python 3.10.6 64-bit",
   "language": "python",
   "name": "python3"
  },
  "language_info": {
   "codemirror_mode": {
    "name": "ipython",
    "version": 3
   },
   "file_extension": ".py",
   "mimetype": "text/x-python",
   "name": "python",
   "nbconvert_exporter": "python",
   "pygments_lexer": "ipython3",
   "version": "3.10.6"
  },
  "orig_nbformat": 4,
  "vscode": {
   "interpreter": {
    "hash": "b0fa6594d8f4cbf19f97940f81e996739fb7646882a419484c72d19e05852a7e"
   }
  }
 },
 "nbformat": 4,
 "nbformat_minor": 2
}
