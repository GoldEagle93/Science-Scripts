{
 "cells": [
  {
   "cell_type": "code",
   "execution_count": 7,
   "metadata": {},
   "outputs": [],
   "source": [
    "for i in ['00', '01', '02', '03', '04', '05', '06', '07', '08', '09', '10', '11', '12', '13', '14', '15', '16', '17', '18', '19', '20', '21', '22', '23', '24', '25', '26', '27', '28', '29']:\n",
    "    with open('rmsd%s-pd.cpptraj'%(i), 'w') as outfile:\n",
    "        outfile.write('''parm topol.top [system]\n",
    "parm reference.prmtop [reftop]\n",
    "reference reference.inpcrd parm [reftop] [ref]\n",
    "trajin trajectory.%s.dcd parm [system]\n",
    "\n",
    "align :201,202,203,204,205,2,206,335,451,3,127,131,207,208,211,334,375,376,385,450,4,58,59,336,374,452,5,90,91,130,302,303,306,371,373,447,448,449,7,445,446,12,487,13,132,141,455,14,92,15,62,129,17@N,C,CA,O5',C4',C1' ref [ref]\n",
    "rms fit ref [ref] :201,202,203,204,205,2,206,335,451,3,127,131,207,208,211,334,375,376,385,450,4,58,59,336,374,452,5,90,91,130,302,303,306,371,373,447,448,449,7,445,446,12,487,13,132,141,455,14,92,15,62,129,17@N,C,CA,O5',C4',C1'\n",
    "rms traj%s-pd ref [ref] :201,202,203,204,205,2,206,335,451,3,127,131,207,208,211,334,375,376,385,450,4,58,59,336,374,452,5,90,91,130,302,303,306,371,373,447,448,449,7,445,446,12,487,13,132,141,455,14,92,15,62,129,17@N,C,CA nofit out rmsd%s-pr.dat\n",
    "rms traj%s-pr ref [ref] :201,202,203,204,205,2,206,335,451,3,127,131,207,208,211,334,375,376,385,450,4,58,59,336,374,452,5,90,91,130,302,303,306,371,373,447,448,449,7,445,446,12,487,13,132,141,455,14,92,15,62,129,17@N,C,CA,O5',C4',C1' nofit out rmsd%s-pd.dat\n",
    "\n",
    "go\n",
    "\n",
    "'''%(i, i, i, i, i))\n",
    "    outfile.close()"
   ]
  },
  {
   "cell_type": "code",
   "execution_count": 6,
   "metadata": {},
   "outputs": [],
   "source": [
    "import os\n",
    "os.chdir('/Users/HQ/orange/Reza/TF/NAR/1bgb/14-two-sided-dummy-contacts/')"
   ]
  },
  {
   "cell_type": "code",
   "execution_count": null,
   "metadata": {},
   "outputs": [],
   "source": []
  }
 ],
 "metadata": {
  "kernelspec": {
   "display_name": "Python 3.10.6 64-bit",
   "language": "python",
   "name": "python3"
  },
  "language_info": {
   "codemirror_mode": {
    "name": "ipython",
    "version": 3
   },
   "file_extension": ".py",
   "mimetype": "text/x-python",
   "name": "python",
   "nbconvert_exporter": "python",
   "pygments_lexer": "ipython3",
   "version": "3.10.6"
  },
  "orig_nbformat": 4,
  "vscode": {
   "interpreter": {
    "hash": "b0fa6594d8f4cbf19f97940f81e996739fb7646882a419484c72d19e05852a7e"
   }
  }
 },
 "nbformat": 4,
 "nbformat_minor": 2
}
