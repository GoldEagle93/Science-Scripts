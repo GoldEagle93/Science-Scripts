{
 "cells": [
  {
   "cell_type": "code",
   "execution_count": 7,
   "metadata": {},
   "outputs": [],
   "source": [
    "import os\n",
    "\n",
    "source = '/Users/HQ/orange/Reza/TF/NAR/' #14-two-sided-dummy-contacts/'\n",
    "systems = sorted([i for i in os.listdir(source) if '.' not in i])\n",
    "systems = ['1a74', '1azp', '1by4', '1bgb',  '2b0d', '1cdw', '1dh3', '1jj4', '1r4o', '1r4r', '1zme', '2dgc', '2r1j', '3cro', '1ysa', '2dgc']\n",
    "\n",
    "for system in systems:\n",
    "    os.chdir(source+system+'/14-two-sided-dummy-contacts/')\n",
    "    rmsd = open('rmsd00.cpptraj', 'r').readlines()\n",
    "    mask = ','.join([str(x) for x in sorted([int(j) for j in [i for i in rmsd if 'rms traj00 ref [ref] :' in i][0].split(':')[1].split('@')[0].split(',')])])\n",
    "    with open('clusters-rmsd.sh', 'w') as outfile:\n",
    "        outfile.write('''#!/bin/bash\n",
    "\n",
    "cpptraj topol.top<<EOF\n",
    "trajin trajectory.00.dcd  10000 10001\n",
    "strip :SDM parmout topol-no-dummy.top\n",
    "go\n",
    "EOF\n",
    "\n",
    "# PD\n",
    "\n",
    "cpptraj<<EOF\n",
    "parm topol-no-dummy.top [system]\n",
    "parm reference.prmtop [reftop]\n",
    "reference reference.inpcrd parm [reftop] [ref]\n",
    "trajin contact-clusters-single-traj-pd/DNA-PROT/unique.c?.pdb parm [system]\n",
    "\n",
    "align :%s@N,C,CA,O5',C4',C1' ref [ref]\n",
    "rms top10-pd ref [ref] :%s@N,C,CA,O5',C4',C1' nofit out rmsd-top10-pd.dat\n",
    "go\n",
    "EOF\n",
    "\n",
    "# Normal\n",
    "\n",
    "cpptraj<<EOF\n",
    "parm topol-no-dummy.top [system]\n",
    "parm reference.prmtop [reftop]\n",
    "reference reference.inpcrd parm [reftop] [ref]\n",
    "trajin contact-clusters-single-traj/DNA-PROT/unique.c?.pdb parm [system]\n",
    "\n",
    "align @O5',C4',C1' ref [ref]\n",
    "rms fit @O5',C4',C1'\n",
    "rms top10 ref [ref] :%s@N,C,CA nofit out rmsd-top10.dat\n",
    "go\n",
    "EOF\n",
    "\n",
    "# LI\n",
    "\n",
    "cpptraj<<EOF\n",
    "parm topol-no-dummy.top [system]\n",
    "parm reference.prmtop [reftop]\n",
    "reference reference.inpcrd parm [reftop] [ref]\n",
    "trajin contact-clusters-single-traj-li/DNA/unique.c?.pdb parm [system]\n",
    "\n",
    "align :%s@N,C,CA ref [ref]\n",
    "rms fit ref [ref] :%s@N,C,CA\n",
    "rms top10-li ref [ref] :%s@O5',C4',C1' nofit out rmsd-top10-li.dat\n",
    "go\n",
    "EOF\n",
    "'''%(mask, mask, mask, mask, mask, mask))"
   ]
  },
  {
   "cell_type": "code",
   "execution_count": null,
   "metadata": {},
   "outputs": [],
   "source": []
  }
 ],
 "metadata": {
  "kernelspec": {
   "display_name": "Python 3.10.6 64-bit",
   "language": "python",
   "name": "python3"
  },
  "language_info": {
   "codemirror_mode": {
    "name": "ipython",
    "version": 3
   },
   "file_extension": ".py",
   "mimetype": "text/x-python",
   "name": "python",
   "nbconvert_exporter": "python",
   "pygments_lexer": "ipython3",
   "version": "3.10.6"
  },
  "orig_nbformat": 4,
  "vscode": {
   "interpreter": {
    "hash": "b0fa6594d8f4cbf19f97940f81e996739fb7646882a419484c72d19e05852a7e"
   }
  }
 },
 "nbformat": 4,
 "nbformat_minor": 2
}
