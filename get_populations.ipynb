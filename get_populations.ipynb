{
 "cells": [
  {
   "cell_type": "code",
   "execution_count": 18,
   "metadata": {},
   "outputs": [
    {
     "name": "stdout",
     "output_type": "stream",
     "text": [
      "1cdw\n",
      "1dh3\n",
      "1zme\n"
     ]
    },
    {
     "data": {
      "text/plain": [
       "['1a74:  0.1237      0.428,  0.404,  0.067,  0.044,  0.019          0.428,  0.422,  0.067,  0.044,  0.019          0.490,  0.422,  0.067,  0.011,  0.006          0.428,  0.422,  0.067,  0.044,  0.019',\n",
       " '1azp:  0.059       0.683,  0.237,  0.037,  0.030,  0.006          0.720,  0.237,  0.032,  0.008,  0.002          0.958,  0.042                                  0.720,  0.237,  0.030,  0.006,  0.003',\n",
       " '1by4:  0.0964      0.532,  0.297,  0.124,  0.027,  0.015          0.532,  0.297,  0.124,  0.027,  0.015          0.532,  0.297,  0.124,  0.027,  0.015          0.532,  0.297,  0.124,  0.027,  0.015',\n",
       " '1bgb:  0.1256      0.708,  0.092,  0.080,  0.076,  0.037          0.708,  0.092,  0.080,  0.076,  0.037          0.708,  0.092,  0.080,  0.076,  0.037          0.708,  0.092,  0.080,  0.076,  0.037',\n",
       " '2b0d:  0.0188      0.326,  0.244,  0.131,  0.109,  0.079          0.326,  0.244,  0.131,  0.113,  0.079          0.326,  0.244,  0.131,  0.113,  0.079          0.326,  0.244,  0.131,  0.113,  0.079',\n",
       " '1jj4:  0.1304      0.672,  0.263,  0.035,  0.016,  0.014          0.672,  0.263,  0.035,  0.015,  0.015          0.672,  0.263,  0.035,  0.015,  0.015          0.672,  0.263,  0.035,  0.016,  0.014',\n",
       " '1r4o:  0.0758      0.578,  0.173,  0.087,  0.069,  0.064          0.578,  0.173,  0.087,  0.069,  0.064          0.578,  0.173,  0.087,  0.069,  0.064          0.578,  0.173,  0.087,  0.069,  0.064',\n",
       " '1r4r:  0.0469      0.445,  0.175,  0.126,  0.095,  0.084          0.445,  0.175,  0.126,  0.096,  0.085          0.746,  0.096,  0.085,  0.067,  0.005          0.445,  0.175,  0.126,  0.095,  0.085',\n",
       " '2dgc:  0.0689      0.431,  0.230,  0.173,  0.060,  0.042          0.431,  0.230,  0.198,  0.060,  0.054          0.431,  0.230,  0.198,  0.060,  0.054          0.431,  0.230,  0.173,  0.060,  0.054',\n",
       " '2r1j:  0.0989      0.808,  0.103,  0.046,  0.020,  0.016          0.808,  0.149,  0.024,  0.016,  0.002          0.808,  0.149,  0.040,  0.002,  0.002          0.808,  0.149,  0.020,  0.016,  0.003',\n",
       " '3cro:  0.0958      0.456,  0.211,  0.133,  0.117,  0.070          0.456,  0.211,  0.133,  0.118,  0.070          0.456,  0.330,  0.133,  0.070,  0.010          0.456,  0.211,  0.133,  0.118,  0.070',\n",
       " '1ysa:  0.0232      0.263,  0.187,  0.110,  0.102,  0.101          0.263,  0.210,  0.187,  0.102,  0.080          0.263,  0.210,  0.187,  0.102,  0.080          0.263,  0.210,  0.187,  0.102,  0.080',\n",
       " '2dgc:  0.0689      0.431,  0.230,  0.173,  0.060,  0.042          0.431,  0.230,  0.198,  0.060,  0.054          0.431,  0.230,  0.198,  0.060,  0.054          0.431,  0.230,  0.173,  0.060,  0.054']"
      ]
     },
     "execution_count": 18,
     "metadata": {},
     "output_type": "execute_result"
    }
   ],
   "source": [
    "import os\n",
    "import numpy as np\n",
    "from os.path import exists\n",
    "\n",
    "source = '/Users/HQ/orange/Reza/TF/NAR/'\n",
    "p = '/14-two-sided-dummy-contacts/' # p for protocol\n",
    "systems = sorted([i for i in os.listdir(source) if '.' not in i])\n",
    "systems = ['1a74', '1azp', '1by4', '1bgb',  '2b0d', '1cdw', '1dh3', '1jj4', '1r4o', '1r4r', '1zme', '2dgc', '2r1j', '3cro', '1ysa', '2dgc']\n",
    "os.chdir(source)\n",
    "title = 'system density h-Interface h-PD h-Protein h-li'\n",
    "populations_master = []\n",
    "check = True\n",
    "for system in systems[:]:\n",
    "    populations = []\n",
    "    if exists(system+p+'colors.npy') and exists(system+p+'contact-clusters-single-traj/DNA-PROT/summary') and exists(system+p+'contact-clusters-single-traj-pd/DNA-PROT/summary') and exists(system+p+'contact-clusters-single-traj-li/DNA-PROT/summary'):\n",
    "    # if check:\n",
    "    # if exists(source+p+'colors.npy'):\n",
    "        populations.append(system+':')\n",
    "\n",
    "        coencidences = np.load(source+system+'/14-two-sided-dummy-contacts/colors.npy')\n",
    "        coencidences_top_20 = max(coencidences)*.8\n",
    "        densities = np.load(source+system+'/14-two-sided-dummy-contacts/density.npy')\n",
    "        frames = []\n",
    "        for frame in range(len(coencidences)):\n",
    "            if coencidences[frame] > coencidences_top_20 and densities[frame] > 0.8:\n",
    "                frames.append(frame)\n",
    "        populations.append(str(len(frames)/len(coencidences)).ljust(10))\n",
    "\n",
    "        summary = open(system+'/'+p+'contact-clusters-single-traj/DNA-PROT/summary').readlines()\n",
    "        population = [i.split()[2] for i in summary[:6]][1:]\n",
    "        populations.append(',  '.join(population).ljust(45))\n",
    "        summary = open(system+'/'+p+'contact-clusters-single-traj-pd/DNA-PROT/summary').readlines()\n",
    "        population = [i.split()[2] for i in summary[:6]][1:]\n",
    "        populations.append(',  '.join(population).ljust(45))\n",
    "        summary = open(system+'/'+p+'contact-clusters-single-traj-pd/PROT/summary').readlines()\n",
    "        population = [i.split()[2] for i in summary[:6]][1:]\n",
    "        populations.append(',  '.join(population).ljust(45))\n",
    "        summary = open(system+'/'+p+'contact-clusters-single-traj-li/DNA-PROT/summary').readlines()\n",
    "        population = [i.split()[2] for i in summary[:6]][1:]\n",
    "        populations.append(',  '.join(population).ljust(45))\n",
    "\n",
    "        populations_master.append('  '.join(populations).rstrip())\n",
    "    else:\n",
    "        print(system)\n",
    "    # populations_master.append(populations)\n",
    "\n",
    "populations_master\n"
   ]
  },
  {
   "cell_type": "code",
   "execution_count": 9,
   "metadata": {},
   "outputs": [],
   "source": [
    "import os\n",
    "import numpy as np\n",
    "import pandas as pd\n",
    "from os.path import exists\n",
    "\n",
    "def find_lowest_RMSD(df):\n",
    "    min = 500\n",
    "    col = 0\n",
    "    row = 0\n",
    "    for i in range(1, len(df.columns)):\n",
    "        for j in range(len(df[df.columns[i]])):\n",
    "            if df[df.columns[i]][j] < min:\n",
    "                min = df[df.columns[i]][j]\n",
    "                col = i\n",
    "                row = j\n",
    "    # return [str(x).ljust(10) for x in [min, row, col-1]]\n",
    "    return [str(x)[:4].ljust(5) for x in [min]]\n",
    "\n",
    "source = '/Users/HQ/orange/Reza/TF/NAR/'\n",
    "p = '/14-two-sided-dummy-contacts/' # p for protocol\n",
    "systems = sorted([i for i in os.listdir(source) if '.' not in i])\n",
    "systems = ['1a74', '1azp', '1by4', '1bgb',  '2b0d', '1cdw', '1dh3', '1jj4', '1r4o', '1r4r', '1zme', '2dgc', '2r1j', '3cro', '1ysa', '2dgc']\n",
    "os.chdir(source)\n",
    "# title = [i.ljust(45) for i in ['system', 'density', 'h-Interface', 'h-PD', 'h-Protein', 'h-li']]\n",
    "# title = ['system'.ljust(7), 'density'.ljust(15), 'h-Interface'.ljust(45), 'h-PD'.ljust(45), 'h-Protein'.ljust(45), 'h-li'.ljust(45), 'lowest-pd, frame, replica'.ljust(30), 'lowest-pr, frame, replica'.ljust(30)]\n",
    "title = ['system'.ljust(7), 'density'.ljust(15), 'h-Interface'.ljust(45), 'h-PD'.ljust(45), 'h-Protein'.ljust(45), 'h-li'.ljust(45), 'lowest-pd'.ljust(10), 'lowest-pr'.ljust(10), 'top5'.ljust(10), 'top5-pd'.ljust(10), 'top5-li'.ljust(10)]\n",
    "populations_master = []\n",
    "check = True\n",
    "for system in systems[:]:\n",
    "    populations = []\n",
    "    if exists(system+p+'colors.npy') and exists(system+p+'contact-clusters-single-traj/DNA-PROT/summary') and exists(system+p+'contact-clusters-single-traj-pd/DNA-PROT/summary') and exists(system+p+'contact-clusters-single-traj-li/DNA-PROT/summary'):\n",
    "    # if check:\n",
    "    # if exists(source+p+'colors.npy'):\n",
    "        populations.append(system+':')\n",
    "\n",
    "        coencidences = np.load(source+system+'/14-two-sided-dummy-contacts/colors.npy')\n",
    "        coencidences_top_20 = max(coencidences)*.8\n",
    "        densities = np.load(source+system+'/14-two-sided-dummy-contacts/density.npy')\n",
    "        frames = []\n",
    "        for frame in range(len(coencidences)):\n",
    "            if coencidences[frame] > coencidences_top_20 and densities[frame] > 0.8:\n",
    "                frames.append(frame)\n",
    "        populations.append(str(len(frames)/len(coencidences))[:5].ljust(10))\n",
    "\n",
    "        summary = open(system+'/'+p+'contact-clusters-single-traj/DNA-PROT/summary').readlines()\n",
    "        population = [i.split()[2] for i in summary[:6]][1:]\n",
    "        populations.append(',  '.join(population).ljust(45))\n",
    "        summary = open(system+'/'+p+'contact-clusters-single-traj-pd/DNA-PROT/summary').readlines()\n",
    "        population = [i.split()[2] for i in summary[:6]][1:]\n",
    "        populations.append(',  '.join(population).ljust(45))\n",
    "        summary = open(system+'/'+p+'contact-clusters-single-traj-pd/PROT/summary').readlines()\n",
    "        population = [i.split()[2] for i in summary[:6]][1:]\n",
    "        populations.append(',  '.join(population).ljust(45))\n",
    "        summary = open(system+'/'+p+'contact-clusters-single-traj-li/DNA-PROT/summary').readlines()\n",
    "        population = [i.split()[2] for i in summary[:6]][1:]\n",
    "        populations.append(',  '.join(population).ljust(45))\n",
    "\n",
    "        df = pd.read_csv(system+'/'+p+'rmsd-pd.dat', delim_whitespace=True)\n",
    "        populations.append(''.join(find_lowest_RMSD(df)).ljust(10))\n",
    "\n",
    "        df = pd.read_csv(system+'/'+p+'rmsd-pr.dat', delim_whitespace=True)\n",
    "        populations.append(''.join(find_lowest_RMSD(df)).ljust(10))\n",
    "\n",
    "        df = pd.read_csv(system+'/'+p+'rmsd-top10.dat', delim_whitespace=True)\n",
    "        df = df[:5]\n",
    "        populations.append(''.join(find_lowest_RMSD(df)).ljust(10))\n",
    "\n",
    "        df = pd.read_csv(system+'/'+p+'rmsd-top10-pd.dat', delim_whitespace=True)\n",
    "        df = df[:5]\n",
    "        populations.append(''.join(find_lowest_RMSD(df)).ljust(10))\n",
    "\n",
    "        df = pd.read_csv(system+'/'+p+'rmsd-top10-li.dat', delim_whitespace=True)\n",
    "        df = df[:5]\n",
    "        populations.append(''.join(find_lowest_RMSD(df)).ljust(10))\n",
    "\n",
    "\n",
    "        populations_master.append('  '.join(populations).rstrip())\n",
    "    else:\n",
    "        print(system)\n",
    "\n",
    "with open('/Users/HQ/Library/Mobile Documents/com~apple~CloudDocs/Workzone/TF/populations.dat', 'w') as outfile:\n",
    "    outfile.write(' '.join(title)+'\\n')\n",
    "    for i in populations_master:\n",
    "        outfile.write(i+'\\n')"
   ]
  },
  {
   "cell_type": "code",
   "execution_count": 4,
   "metadata": {},
   "outputs": [],
   "source": []
  },
  {
   "cell_type": "code",
   "execution_count": 8,
   "metadata": {},
   "outputs": [
    {
     "data": {
      "text/html": [
       "<div>\n",
       "<style scoped>\n",
       "    .dataframe tbody tr th:only-of-type {\n",
       "        vertical-align: middle;\n",
       "    }\n",
       "\n",
       "    .dataframe tbody tr th {\n",
       "        vertical-align: top;\n",
       "    }\n",
       "\n",
       "    .dataframe thead th {\n",
       "        text-align: right;\n",
       "    }\n",
       "</style>\n",
       "<table border=\"1\" class=\"dataframe\">\n",
       "  <thead>\n",
       "    <tr style=\"text-align: right;\">\n",
       "      <th></th>\n",
       "      <th>#Frame</th>\n",
       "      <th>top10-li</th>\n",
       "    </tr>\n",
       "  </thead>\n",
       "  <tbody>\n",
       "    <tr>\n",
       "      <th>0</th>\n",
       "      <td>1</td>\n",
       "      <td>11.2730</td>\n",
       "    </tr>\n",
       "    <tr>\n",
       "      <th>1</th>\n",
       "      <td>2</td>\n",
       "      <td>9.4881</td>\n",
       "    </tr>\n",
       "    <tr>\n",
       "      <th>2</th>\n",
       "      <td>3</td>\n",
       "      <td>4.8136</td>\n",
       "    </tr>\n",
       "    <tr>\n",
       "      <th>3</th>\n",
       "      <td>4</td>\n",
       "      <td>9.3168</td>\n",
       "    </tr>\n",
       "    <tr>\n",
       "      <th>4</th>\n",
       "      <td>5</td>\n",
       "      <td>5.3070</td>\n",
       "    </tr>\n",
       "  </tbody>\n",
       "</table>\n",
       "</div>"
      ],
      "text/plain": [
       "   #Frame  top10-li\n",
       "0       1   11.2730\n",
       "1       2    9.4881\n",
       "2       3    4.8136\n",
       "3       4    9.3168\n",
       "4       5    5.3070"
      ]
     },
     "execution_count": 8,
     "metadata": {},
     "output_type": "execute_result"
    }
   ],
   "source": [
    "df[:5]"
   ]
  },
  {
   "cell_type": "code",
   "execution_count": 24,
   "metadata": {},
   "outputs": [
    {
     "data": {
      "text/plain": [
       "(array([  17.,  144.,    8.,  107., 1025.,  350.,  124., 2845., 3713.,\n",
       "        1665.]),\n",
       " array([0.19887249, 0.27898524, 0.35909799, 0.43921074, 0.51932349,\n",
       "        0.59943624, 0.67954899, 0.75966175, 0.8397745 , 0.91988725,\n",
       "        1.        ]),\n",
       " <BarContainer object of 10 artists>)"
      ]
     },
     "execution_count": 24,
     "metadata": {},
     "output_type": "execute_result"
    },
    {
     "data": {
      "image/png": "[encoded data removed]",
      "text/plain": [
       "<Figure size 432x288 with 1 Axes>"
      ]
     },
     "metadata": {
      "needs_background": "light"
     },
     "output_type": "display_data"
    }
   ],
   "source": [
    "import matplotlib.pylab as plt\n",
    "# plt.hist(coencidences)\n",
    "plt.hist(densities)"
   ]
  }
 ],
 "metadata": {
  "kernelspec": {
   "display_name": "Python 3.9.13 64-bit",
   "language": "python",
   "name": "python3"
  },
  "language_info": {
   "codemirror_mode": {
    "name": "ipython",
    "version": 3
   },
   "file_extension": ".py",
   "mimetype": "text/x-python",
   "name": "python",
   "nbconvert_exporter": "python",
   "pygments_lexer": "ipython3",
   "version": "3.9.13"
  },
  "orig_nbformat": 4,
  "vscode": {
   "interpreter": {
    "hash": "a665b5d41d17b532ea9890333293a1b812fa0b73c9c25c950b3cedf1bebd0438"
   }
  }
 },
 "nbformat": 4,
 "nbformat_minor": 2
}
