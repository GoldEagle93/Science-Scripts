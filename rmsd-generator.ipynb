{
 "cells": [
  {
   "cell_type": "code",
   "execution_count": 7,
   "metadata": {},
   "outputs": [],
   "source": [
    "import os"
   ]
  },
  {
   "cell_type": "code",
   "execution_count": 19,
   "metadata": {},
   "outputs": [],
   "source": [
    "os.chdir('/Users/HQ/orange/Reza/TF/NAR/3cro/11-dummy-contacts-70%/')\n",
    "mask = '123,124,133,134,135,136,138,139,4,6,7,8,67,68,69,70,72,73,16,22,24,25,79,26,83,145,148,149,29,30,34,36'\n",
    "\n",
    "for i in ['00', '01', '02', '03', '04', '05', '06', '07', '08', '09', '10', '11', '12', '13', '14', '15', '16', '17', '18', '19', '20', '21', '22', '23', '24', '25', '26', '27', '28', '29']:\n",
    "    with open('rmsd%s-pd.cpptraj'%i, 'w') as o:\n",
    "        o.write(\n",
    "\"\"\"parm topol.top [system]\n",
    "parm reference.prmtop [reftop]\n",
    "reference reference.inpcrd parm [reftop] [ref]\n",
    "trajin trajectory.%s.dcd parm [system]\n",
    "\n",
    "align :%s@N,C,CA,O5',C4',C1' ref [ref]\n",
    "rms fit ref [ref] :%s@N,C,CA,O5',C4',C1'\n",
    "rms traj%s-pd ref [ref] :%s@N,C,CA nofit out rmsd%s-pr.dat\n",
    "rms traj%s-pr ref [ref] :%s@N,C,CA,O5',C4',C1' nofit out rmsd%s-pd.dat\n",
    "\n",
    "go\n",
    "\n",
    "\"\"\"%(i, mask, mask, i, mask, i, i, mask, i)\n",
    "        )\n",
    "    o.close()"
   ]
  },
  {
   "cell_type": "code",
   "execution_count": 9,
   "metadata": {},
   "outputs": [
    {
     "data": {
      "text/plain": [
       "'/Users/HQ/orange/Reza/TF/NAR/1azp/11-dummy-contacts-70%'"
      ]
     },
     "execution_count": 9,
     "metadata": {},
     "output_type": "execute_result"
    }
   ],
   "source": [
    "pwd"
   ]
  }
 ],
 "metadata": {
  "kernelspec": {
   "display_name": "Python 3.9.12 64-bit",
   "language": "python",
   "name": "python3"
  },
  "language_info": {
   "codemirror_mode": {
    "name": "ipython",
    "version": 3
   },
   "file_extension": ".py",
   "mimetype": "text/x-python",
   "name": "python",
   "nbconvert_exporter": "python",
   "pygments_lexer": "ipython3",
   "version": "3.9.12"
  },
  "orig_nbformat": 4,
  "vscode": {
   "interpreter": {
    "hash": "b0fa6594d8f4cbf19f97940f81e996739fb7646882a419484c72d19e05852a7e"
   }
  }
 },
 "nbformat": 4,
 "nbformat_minor": 2
}
