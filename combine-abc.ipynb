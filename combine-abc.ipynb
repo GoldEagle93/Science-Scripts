{
 "cells": [
  {
   "cell_type": "code",
   "execution_count": 1,
   "metadata": {},
   "outputs": [],
   "source": [
    "import os\n",
    "import sys"
   ]
  },
  {
   "cell_type": "code",
   "execution_count": 2,
   "metadata": {},
   "outputs": [
    {
     "data": {
      "text/plain": [
       "48"
      ]
     },
     "execution_count": 2,
     "metadata": {},
     "output_type": "execute_result"
    }
   ],
   "source": [
    "seqs = sorted([i for i in os.listdir('/Users/HQ/orange/liweichang/ABC2021/production_phase/') if i.startswith('seq')])\n",
    "# seqs = [i for i in os.listdir('/Users/HQ/orange/liweichang/ABC2021/production_phase/round2') if i.startswith('seq')]\n",
    "len(seqs)"
   ]
  },
  {
   "cell_type": "code",
   "execution_count": 3,
   "metadata": {},
   "outputs": [
    {
     "name": "stdout",
     "output_type": "stream",
     "text": [
      "['seq143', 'seq144', 'seq145', 'seq146', 'seq147', 'seq148', 'seq149', 'seq150', 'seq151', 'seq152', 'seq153', 'seq154', 'seq155', 'seq156', 'seq157', 'seq158', 'seq159', 'seq160', 'seq161', 'seq162', 'seq163', 'seq164', 'seq165', 'seq166', 'seq167', 'seq168', 'seq169', 'seq170', 'seq171', 'seq172', 'seq173', 'seq174', 'seq175', 'seq176', 'seq177', 'seq178', 'seq179', 'seq180', 'seq181', 'seq182', 'seq183', 'seq184', 'seq185', 'seq186', 'seq187', 'seq188', 'seq189', 'seq190']\n"
     ]
    }
   ],
   "source": [
    "print(seqs)"
   ]
  },
  {
   "cell_type": "code",
   "execution_count": 4,
   "metadata": {},
   "outputs": [],
   "source": [
    "for i in seqs[:]:\n",
    "    with open('/Users/HQ/blue/reza/abc/data/%s/combine.cpptraj'%(i), 'w') as of:\n",
    "        of.write(\n",
    "'''parm /orange/alberto.perezant/liweichang/ABC2021/production_phase/%s/r01/%s_r01.prmtop\n",
    "'''%(i, i)\n",
    ")\n",
    "        for j in ['001', '002', '003', '004', '005', '006', '007', '008', '009', '010', '011', '012', '013', '014', '015', '016', '017', '018', '019', '020', '021', '022', '023', '024', '025', '026', '027', '028', '029', '030', '031', '032', '033', '034', '035', '036', '037', '038', '039', '040', '041', '042', '043', '044', '045', '046', '047', '048', '049', '050', '051', '052', '053', '054', '055', '056', '057', '058', '059', '060', '061', '062', '063', '064', '065', '066', '067', '068', '069', '070', '071', '072', '073', '074', '075', '076', '077', '078', '079', '080', '081', '082', '083', '084', '085', '086', '087', '088', '089', '090', '091', '092', '093', '094', '095', '096', '097', '098', '099', '100', '101', '102', '103', '104', '105', '106', '107', '108', '109', '110', '111', '112', '113', '114', '115', '116', '117', '118', '119', '120', '121', '122', '123', '124', '125', '126', '127', '128', '129', '130', '131', '132', '133', '134', '135', '136', '137', '138', '139', '140', '141', '142', '143', '144', '145', '146', '147', '148', '149', '150', '151', '152', '153', '154', '155', '156', '157', '158', '159', '160', '161', '162', '163', '164', '165', '166', '167', '168', '169', '170', '171', '172', '173', '174', '175', '176', '177', '178', '179', '180', '181', '182', '183', '184', '185', '186', '187', '188', '189', '190', '191', '192', '193', '194', '195', '196', '197', '198', '199', '200', '201', '202'][2:]:\n",
    "            of.write('trajin /orange/alberto.perezant/liweichang/ABC2021/production_phase/%s/r01/TRAJ/%s_r01_ch%s.nc\\n'%(i, i, str(j)))\n",
    "\n",
    "        of.write(\n",
    "'''strip :41-100000|@H parmout stripped.prmtop\n",
    "trajout combined-stripped_%s.nc\n",
    "trajout zero.pdb onlyframes 1\n",
    "'''%(i)\n",
    ")\n",
    "\n",
    "    with open('/Users/HQ/blue/reza/abc/data/%s/analyze.cpptraj'%(i), 'w') as of:\n",
    "        of.write(\n",
    "'''parm stripped.prmtop\n",
    "trajin combined-stripped_%s.nc\n",
    "nastruct %s calcnohb naout values.dat resrange 3-18,23-38\n",
    "#multidihedral %s alpha beta gamma delta epsilon zeta nu0 nu1 nu2 nu3 nu4 h1p c2p chin out dihedrals.dat\n",
    "\n",
    "\n",
    "'''%(i, i, i)\n",
    ")\n",
    "\n",
    "    # os.mkdir('/Users/HQ/orange/Reza/abc/data/%s'%(i))"
   ]
  },
  {
   "cell_type": "code",
   "execution_count": null,
   "metadata": {},
   "outputs": [],
   "source": []
  }
 ],
 "metadata": {
  "kernelspec": {
   "display_name": "Python 3",
   "language": "python",
   "name": "python3"
  },
  "language_info": {
   "codemirror_mode": {
    "name": "ipython",
    "version": 3
   },
   "file_extension": ".py",
   "mimetype": "text/x-python",
   "name": "python",
   "nbconvert_exporter": "python",
   "pygments_lexer": "ipython3",
   "version": "3.9.15"
  },
  "orig_nbformat": 4,
  "vscode": {
   "interpreter": {
    "hash": "a665b5d41d17b532ea9890333293a1b812fa0b73c9c25c950b3cedf1bebd0438"
   }
  }
 },
 "nbformat": 4,
 "nbformat_minor": 2
}
