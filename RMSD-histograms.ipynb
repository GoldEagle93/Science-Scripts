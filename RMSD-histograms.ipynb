{
 "cells": [
  {
   "cell_type": "code",
   "execution_count": 1,
   "metadata": {},
   "outputs": [],
   "source": [
    "import os\n",
    "import numpy as np\n",
    "import pandas as pd\n",
    "from os.path import exists\n",
    "import matplotlib.pyplot as plt"
   ]
  },
  {
   "cell_type": "code",
   "execution_count": 2,
   "metadata": {},
   "outputs": [],
   "source": [
    "source = '/Users/HQ/orange/Reza/TF/NAR/' #14-two-sided-dummy-contacts/'\n",
    "systems = sorted([i for i in os.listdir(source) if '.' not in i])\n",
    "systems = ['1a74', '1azp', '1by4', '1bgb',  '2b0d', '1cdw', '1dh3', '1jj4', '1r4o', '1r4r', '1zme', '2dgc', '2r1j', '3cro', '1ysa', '2dgc']\n",
    "# systems = ['1bgb',  '2b0d']\n",
    "bold = ['#fcff5d', '#7dfc00', '#0ec434', '#228c68', '#8ad8e8', '#235b54', '#29bdab', '#3998f5', '#37294f', '#277da7', '#3750db', '#f22020', '#991919', '#ffcba5', '#e68f66', '#c56133', '#96341c', '#632819', '#ffc413', '#f47a22', '#2f2aa0', '#b732cc', '#772b9d', '#f07cab', '#d30b94', '#edeff3', '#c3a5b4', '#946aa2', '#5d4c86', '#201923']\n",
    "uf = ['#0021A5', '#F2A900', '#FA4616', '#22884C']\n",
    "os.chdir(source)"
   ]
  },
  {
   "cell_type": "code",
   "execution_count": 3,
   "metadata": {},
   "outputs": [
    {
     "data": {
      "text/plain": [
       "<Figure size 1440x576 with 0 Axes>"
      ]
     },
     "metadata": {},
     "output_type": "display_data"
    },
    {
     "data": {
      "text/plain": [
       "<Figure size 1440x576 with 0 Axes>"
      ]
     },
     "metadata": {},
     "output_type": "display_data"
    }
   ],
   "source": [
    "for i in range(len(systems)):\n",
    "    fig, axes = plt.subplots(nrows=6,ncols=5,sharex=True,sharey=True,figsize=(20,8))\n",
    "    fig.subplots_adjust(wspace=0, hspace=0)\n",
    "    if exists('%s/14-two-sided-dummy-contacts/rmsd-pd.dat'%(systems[i])):\n",
    "        df = pd.read_csv('%s/14-two-sided-dummy-contacts/rmsd-pd.dat'%(systems[i]), delim_whitespace=True)\n",
    "        for j in range(len(df.columns)-1):\n",
    "            row = int(j/5)\n",
    "            column = j%5\n",
    "            axes[row,column].hist(df[df.columns[j+1]], bins=120, range=(0, 30), color=uf[0])\n",
    "            if column == 0:  axes[row,column].set_ylabel('Population')\n",
    "            if row == 5:     axes[row,column].set_xlabel('Interface Protein-DNA RMSD')\n",
    "    plt.savefig('RMSD-pd-histogram-%s.png'%(systems[i]), bbox_inches='tight', dpi=300)\n",
    "    plt.clf()\n"
   ]
  },
  {
   "cell_type": "code",
   "execution_count": null,
   "metadata": {},
   "outputs": [],
   "source": []
  }
 ],
 "metadata": {
  "kernelspec": {
   "display_name": "Python 3.9.13 64-bit",
   "language": "python",
   "name": "python3"
  },
  "language_info": {
   "codemirror_mode": {
    "name": "ipython",
    "version": 3
   },
   "file_extension": ".py",
   "mimetype": "text/x-python",
   "name": "python",
   "nbconvert_exporter": "python",
   "pygments_lexer": "ipython3",
   "version": "3.9.13"
  },
  "orig_nbformat": 4,
  "vscode": {
   "interpreter": {
    "hash": "a665b5d41d17b532ea9890333293a1b812fa0b73c9c25c950b3cedf1bebd0438"
   }
  }
 },
 "nbformat": 4,
 "nbformat_minor": 2
}
