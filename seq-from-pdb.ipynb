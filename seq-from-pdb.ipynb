{
 "cells": [
  {
   "cell_type": "code",
   "execution_count": 1,
   "metadata": {},
   "outputs": [],
   "source": [
    "import os\n",
    "import sys"
   ]
  },
  {
   "cell_type": "code",
   "execution_count": 2,
   "metadata": {},
   "outputs": [],
   "source": [
    "def determine_complex_sequence(pdb):\n",
    "    # seed = [i for i in os.listdir('TEMPLATES') if '_' not in i and i.endswith('-BDNA.pdb')][0]\n",
    "    lines = [i for i in open(pdb,'r').readlines()]\n",
    "    lines = [i for i in lines if i.startswith('ATOM')]\n",
    "    complex_sequence = []\n",
    "    for line in range(len(lines)):\n",
    "        split = lines[line].split()\n",
    "        if split[4].isdigit():\n",
    "            if lines[line-1].split()[4] != lines[line].split()[4]:\n",
    "                if split[3] == 'HIE':\n",
    "                    complex_sequence.append('HIS')\n",
    "                else:\n",
    "                    complex_sequence.append(split[3])\n",
    "        elif not split[4].isdigit() and split[5].isdigit():\n",
    "            if lines[line-1].split()[5] != lines[line].split()[5]:\n",
    "                if split[3] == 'HIE':\n",
    "                    complex_sequence.append('HIS')\n",
    "                else:\n",
    "                    complex_sequence.append(split[3])\n",
    "    # print(complex_sequence)\n",
    "    return complex_sequence\n",
    "# seq = determine_complex_sequence()\n",
    "\n",
    "def three2one(sequence):\n",
    "    NAs = 'DA DT DC DG DA5 DT5 DC5 DG5 DA3 DT3 DC3 DG3'.split(' ')\n",
    "    AAs = 'ALA ARG ASP ASN CYS GLU GLN GLY HIS HIE HID HIP ILE LEU LYS MET PHE PRO SER THR TRP TYR VAL SEL'.split(' ')\n",
    "    one_NAs = {'DA':'A',  'DT':'T',  'DC':'C',  'DG':'G',\n",
    "               'DA5':'A', 'DT5':'T', 'DC5':'C', 'DG5':'G',\n",
    "               'DA3':'A', 'DT3':'T', 'DC3':'C', 'DG3':'G',\n",
    "               'A':'A',   'U':'U',   'C':'C',   'G':'G',\n",
    "               'A5':'A',  'U5':'U',  'C5':'C',  'G5':'G',\n",
    "               'A3':'A',  'U3':'U',  'C3':'C',  'G3':'G'}\n",
    "\n",
    "    one_AAs = {'ALA':'A', 'ARG':'R', 'ASP':'D', 'ASN':'N',\n",
    "               'CYS':'C', 'GLU':'E', 'GLN':'Q', 'GLY':'G',\n",
    "               'HIS':'H', 'HIE':'H', 'HID':'H', 'HIP':'H',\n",
    "               'ILE':'I', 'LEU':'L', 'LYS':'K', 'MET':'M',\n",
    "               'PHE':'F', 'PRO':'P', 'SER':'S', 'THR':'T',\n",
    "               'TRP':'W', 'TYR':'Y', 'VAL':'V', 'SEL':'Z'}\n",
    "    one_letter_sequence = []\n",
    "\n",
    "    for residue in sequence:\n",
    "        if residue in NAs:\n",
    "            one_letter_sequence.append(one_NAs[residue].ljust(3))\n",
    "        elif residue in AAs:\n",
    "            one_letter_sequence.append(one_AAs[residue].ljust(1))\n",
    "            # one_letter_sequence.append(one_AAs[residue]+'--')\n",
    "\n",
    "    if len(sequence) == len(one_letter_sequence):\n",
    "        return ''.join(one_letter_sequence)\n",
    "    else:\n",
    "        print('input/output sequence length mismatch')\n",
    "        # print(','.join(sequence))\n",
    "        # print(','.join(one_letter_sequence))\n",
    "        print(len(sequence))\n",
    "        print(len(one_letter_sequence))\n",
    "\n"
   ]
  },
  {
   "cell_type": "code",
   "execution_count": 5,
   "metadata": {},
   "outputs": [],
   "source": [
    "os.chdir('/Users/HQ/orange/Reza/eskape/')\n",
    "systems = [\n",
    " 'A-baumanii-1',\n",
    " 'B-subtilis-1',\n",
    " 'E-coli-1',\n",
    " 'E-faecium-1',\n",
    " 'P-aeruginosa-1',\n",
    " 'S-aureus-1',\n",
    " 'T-maritima-1',\n",
    "]"
   ]
  },
  {
   "cell_type": "code",
   "execution_count": 6,
   "metadata": {},
   "outputs": [
    {
     "name": "stdout",
     "output_type": "stream",
     "text": [
      ">A-baumanii\n",
      "MALYSFSTDLRIRCAADYKSVFDGALFKVHQPHFLFLAKLTEQPNSRLGIVVAKKKVRRAHERNRIKRLARESFRLHQPKFGSDIDVVVMPKVGIETITNAELYQQLDFAWQKLQRLAKKHSKVVPTSQN\n",
      ">B-subtilis\n",
      "AHLKKRNRLKKNEDFQKVFKHGTSVANRQFVLYTLDQPENDELRVGLSVSKKIGNAVMRNRIKRLIRQAFLEEKERLKEKDYIIIARKPASQLTYEETKKSLQHLFRKSSLYK\n",
      ">E-coli\n",
      "KLAFPRELRLLTPSQFTFVFQQPQRAGTPQITILGRLNSLGHPRIGLTVAKKNVRRAHERNRIKRLTRESFRLRQHELPAMDFVVVAKKGVADLDNRALSEALEKLWRRHCR\n",
      ">E-faecium\n",
      "MRKAYRVKKEREFQAVFHTGDSFANRKFVVYRLEKPGQPHFRVGLSVGKKVGNAVNRNEVKRKIRAAVYSIKEEIDPELDFIVIARPSVKGLTYDEVRSNLVHVLKLAKIIDREEKSK\n",
      ">P-aeruginosa\n",
      "MVSRDFDRDKRLLTARQFSAVFDSPTGKVPGKHVLLLARENGLDHPRLGLVIGKKNVKLAVQRNRLKRLIRESFRHNQEALAGWDIVMIARKGLGELENPELHQQFGKLWKRLLRNRPRTESPADAPGVADGTHA\n",
      ">S-aureus\n",
      "KAYRIKKNADFQRIYKKGHSVANRQFVVYTCNNKEIDHFRLGISVSKKLGNAVLRNKIKRAIRENFKVHKSHILAKDIIVIARQPAKDMTTLQIQNSLEHVLKIAKVFN\n",
      ">T-maritima\n",
      "RRERLRLRRDFLLIFKEGKSLQNEYFVVLFRKNGMDYSRLGIVVKRKFGKATRRNKLKRWVREIFRRNKGVIPKGFDIVVIPRKKLSEEFERVDFWTVREKLLNLLKRIEG\n"
     ]
    }
   ],
   "source": [
    "for system in systems[:]:\n",
    "    print('>'+system[:-2])\n",
    "    print(three2one(determine_complex_sequence('/Users/HQ/orange/Reza/eskape/'+system+'/input.pdb')))"
   ]
  },
  {
   "cell_type": "code",
   "execution_count": 29,
   "metadata": {},
   "outputs": [
    {
     "name": "stdout",
     "output_type": "stream",
     "text": [
      "RES\n",
      "['ARG', 'GLU', 'SER']\n"
     ]
    }
   ],
   "source": [
    "print(a[70:73])\n",
    "print(b[70:73])"
   ]
  },
  {
   "cell_type": "code",
   "execution_count": 7,
   "metadata": {},
   "outputs": [
    {
     "data": {
      "text/plain": [
       "['-------T--RIR---DYK-VF--A---V----FL-----------RLGI-V-KK-V--A--RNRIKRLARE-FR-----F----D-VVMPK-GI--I--------L--QL-FA-QKL---------------------',\n",
       " '-------K--RLK---DFQ-VF--G---A----VL-----------RVGL-V-KK-I--A--RNRIKRLIRQ-FL-----L----D-IIIAR-PA--L--------T--SL-HL-RKS---------------------',\n",
       " '-------R--RLL---QFT-VF--P---G----IT-----------RIGL-V-KK-V--A--RNRIKRLTRE-FR-----L----D-VVVAK-GV--L--------L--AL-KL-RRH---------------------',\n",
       " '-------K--RVK---EFQ-VF--G---A----VV-----------RVGL-V-KK-V--A--RNEVKRKIRA-VY-----I----D-IVIAR-SV--L--------V--NL-HV-KLA---------------------',\n",
       " '-------R--RLL---QFS-VF--P---V----VL-----------RLGL-I-KK-V--A--RNRLKRLIRE-FR-----L----D-VMIAR-GL--L--------L--QF-KL-KRL---------------------',\n",
       " '-------K--RIK---DFQ-IY--G---A----VV-----------RLGI-V-KK-L--A--RNKIKRAIRE-FK-----I----D-IVIAR-PA--M--------I--SL-HV-KIA---------------------',\n",
       " '-------R--RLR---DFL-IF--G---Q----VV-----------RLGI-V-RK-F--A--RNKLKRWVRE-FR-----I----D-VVIPR-KL--E--------V--KL-NL-KRI---------------------']"
      ]
     },
     "execution_count": 7,
     "metadata": {},
     "output_type": "execute_result"
    }
   ],
   "source": [
    "mask = [8,11,12,13,17,18,19,21,22,25,29,34,35,47,48,49,50,52,54,55,57,60,63,64,65,66,67,68,69,70,71,72,74,75,81,86,88,89,90,91,92,94,95,98,107,110,111,113,114,116,117,118]\n",
    "\n",
    "alginemnt = [\n",
    "#       *  ***   *** **  *   *    **           **** * ** *  *  ********** **     *    * ***** **  *        *  ** ** ***                      \n",
    "'MALYSFSTDLRIRCAADYKSVFDGALFKVHQPHFLFLAKLTEQPNSRLGIVVAKKKVRRAHERNRIKRLARESFRLHQPKFGSDIDVVVMPKVGIETITNA----ELYQQLDFAWQKLQRLAKKHSKVVPTSQ--N----',\n",
    "'---AHLKKRNRLKKNEDFQKVFKHGTSVANRQFVLYTLDQPENDELRVGLSVSKK-IGNAVMRNRIKRLIRQAFLEEKERL-KEKDYIIIARKPASQL----TYEETKKSLQHLFRKSSLYK------------------',\n",
    "'--KLAFPRELRLLTPSQFTFVFQQPQRAG-TPQITILGRLNSLGHPRIGLTVAKKNVRRAHERNRIKRLTRESFRLRQHELP-AMDFVVVAKKGVADLDNR----ALSEALEKLWRRHCR--------------------',\n",
    "'-----MRKAYRVKKEREFQAVFHTGDSFANRKFVVYRLEKPGQPHFRVGLSVGKK-VGNAVNRNEVKRKIRAAVYSIKEEIDPELDFIVIARPSVKGL----TYDEVRSNLVHVLKLAKIIDREEKSK------------',\n",
    "'MVSRDFDRDKRLLTARQFSAVFDSPTGKVPGKHVLLLARENGLDHPRLGLVIGKKNVKLAVQRNRLKRLIRESFRHNQEALA-GWDIVMIARKGLGELENP----ELHQQFGKLWKRLLRNRPRTESPADAPGVADGTHA',\n",
    "'-------KAYRIKKNADFQRIYKKGHSVANRQFVVYTCNNKEIDHFRLGISVSKK-LGNAVLRNKIKRAIRENFKVHKSHI-LAKDIIVIARQPAKDM----TTLQIQNSLEHVLKIAKVFN------------------',\n",
    "'-------RRERLRLRRDFLLIFKEGKSLQNEYFVVL-FRKNGMDYSRLGIVVKRK-FGKATRRNKLKRWVREIFRRNKGVIPKGFDIVVIPRKKLSEEFERVDFWTVREKLLNLLKRIEG--------------------'\n",
    "]\n",
    "\n",
    "originals = [\n",
    "'MALYSFSTDLRIRCAADYKSVFDGALFKVHQPHFLFLAKLTEQPNSRLGIVVAKKKVRRAHERNRIKRLARESFRLHQPKFGSDIDVVVMPKVGIETITNAELYQQLDFAWQKLQRLAKKHSKVVPTSQN',\n",
    "'AHLKKRNRLKKNEDFQKVFKHGTSVANRQFVLYTLDQPENDELRVGLSVSKKIGNAVMRNRIKRLIRQAFLEEKERLKEKDYIIIARKPASQLTYEETKKSLQHLFRKSSLYK',\n",
    "'KLAFPRELRLLTPSQFTFVFQQPQRAGTPQITILGRLNSLGHPRIGLTVAKKNVRRAHERNRIKRLTRESFRLRQHELPAMDFVVVAKKGVADLDNRALSEALEKLWRRHCR',\n",
    "'MRKAYRVKKEREFQAVFHTGDSFANRKFVVYRLEKPGQPHFRVGLSVGKKVGNAVNRNEVKRKIRAAVYSIKEEIDPELDFIVIARPSVKGLTYDEVRSNLVHVLKLAKIIDREEKSK',\n",
    "'MVSRDFDRDKRLLTARQFSAVFDSPTGKVPGKHVLLLARENGLDHPRLGLVIGKKNVKLAVQRNRLKRLIRESFRHNQEALAGWDIVMIARKGLGELENPELHQQFGKLWKRLLRNRPRTESPADAPGVADGTHA',\n",
    "'KAYRIKKNADFQRIYKKGHSVANRQFVVYTCNNKEIDHFRLGISVSKKLGNAVLRNKIKRAIRENFKVHKSHILAKDIIVIARQPAKDMTTLQIQNSLEHVLKIAKVFN',\n",
    "'RRERLRLRRDFLLIFKEGKSLQNEYFVVLFRKNGMDYSRLGIVVKRKFGKATRRNKLKRWVREIFRRNKGVIPKGFDIVVIPRKKLSEEFERVDFWTVREKLLNLLKRIEG'\n",
    "]\n",
    "\n",
    "orgs = ['baumanii', 'subtilits', 'coli', 'faecium', 'aeroginosa', 'aureus', 'maritima']\n",
    "\n",
    "stripped =      [[], [], [], [], [], [], []]\n",
    "stripped_seqs = [[], [], [], [], [], [], []]\n",
    "masks =         [[], [], [], [], [], [], []]\n",
    "\n",
    "for i in range(1,140):\n",
    "    for j in range(7):\n",
    "        if i in mask:\n",
    "            stripped[j].append(alginemnt[j][i-1])\n",
    "            masks[j].append(i-(alginemnt[j][:i].count('-')))\n",
    "        else:\n",
    "            stripped[j].append('-')\n",
    "\n",
    "for i in range(7):\n",
    "    for j in masks[i]:\n",
    "        stripped_seqs[i].append(originals[i][j-1])\n",
    "\n",
    "stripped = [''.join(x) for x in stripped]\n",
    "stripped_seqs = [''.join(x) for x in stripped_seqs]\n",
    "stripped\n",
    "\n"
   ]
  },
  {
   "cell_type": "code",
   "execution_count": 8,
   "metadata": {},
   "outputs": [
    {
     "data": {
      "text/plain": [
       "['TRIRDYKVFAVFLRLGIVKKVARNRIKRLAREFRFDVVMPKGIILQLFAQKL',\n",
       " 'KRLKDFQVFGAVLRVGLVKKIARNRIKRLIRQFLLDIIIARPALTSLHLRKS',\n",
       " 'RRLLQFTVFPGITRIGLVKKVARNRIKRLTREFRLDVVVAKGVLLALKLRRH',\n",
       " 'KRVKEFQVFGAVVRVGLVKKVARNEVKRKIRAVYIDIVIARSVLVNLHVKLA',\n",
       " 'RRLLQFSVFPVVLRLGLIKKVARNRLKRLIREFRLDVMIARGLLLQFKLKRL',\n",
       " 'KRIKDFQIYGAVVRLGIVKKLARNKIKRAIREFKIDIVIARPAMISLHVKIA',\n",
       " 'RRLRDFLIFGQVVRLGIVRKFARNKLKRWVREFRIDVVIPRKLEVKLNLKRI']"
      ]
     },
     "execution_count": 8,
     "metadata": {},
     "output_type": "execute_result"
    }
   ],
   "source": [
    "stripped_seqs"
   ]
  },
  {
   "cell_type": "code",
   "execution_count": 9,
   "metadata": {},
   "outputs": [
    {
     "name": "stdout",
     "output_type": "stream",
     "text": [
      "[8, 11, 12, 13, 17, 18, 19, 21, 22, 25, 29, 34, 35, 47, 48, 49, 50, 52, 54, 55, 57, 60, 63, 64, 65, 66, 67, 68, 69, 70, 71, 72, 74, 75, 81, 86, 88, 89, 90, 91, 92, 94, 95, 98, 103, 106, 107, 109, 110, 112, 113, 114]\n",
      "[5, 8, 9, 10, 14, 15, 16, 18, 19, 22, 26, 31, 32, 44, 45, 46, 47, 49, 51, 52, 53, 56, 59, 60, 61, 62, 63, 64, 65, 66, 67, 68, 70, 71, 77, 81, 83, 84, 85, 86, 87, 89, 90, 93, 98, 101, 102, 104, 105, 107, 108, 109]\n",
      "[6, 9, 10, 11, 15, 16, 17, 19, 20, 23, 27, 31, 32, 44, 45, 46, 47, 49, 51, 52, 54, 57, 60, 61, 62, 63, 64, 65, 66, 67, 68, 69, 71, 72, 78, 82, 84, 85, 86, 87, 88, 90, 91, 94, 99, 102, 103, 105, 106, 108, 109, 110]\n",
      "[3, 6, 7, 8, 12, 13, 14, 16, 17, 20, 24, 29, 30, 42, 43, 44, 45, 47, 49, 50, 51, 54, 57, 58, 59, 60, 61, 62, 63, 64, 65, 66, 68, 69, 75, 80, 82, 83, 84, 85, 86, 88, 89, 92, 97, 100, 101, 103, 104, 106, 107, 108]\n",
      "[8, 11, 12, 13, 17, 18, 19, 21, 22, 25, 29, 34, 35, 47, 48, 49, 50, 52, 54, 55, 57, 60, 63, 64, 65, 66, 67, 68, 69, 70, 71, 72, 74, 75, 81, 85, 87, 88, 89, 90, 91, 93, 94, 97, 102, 105, 106, 108, 109, 111, 112, 113]\n",
      "[1, 4, 5, 6, 10, 11, 12, 14, 15, 18, 22, 27, 28, 40, 41, 42, 43, 45, 47, 48, 49, 52, 55, 56, 57, 58, 59, 60, 61, 62, 63, 64, 66, 67, 73, 77, 79, 80, 81, 82, 83, 85, 86, 89, 94, 97, 98, 100, 101, 103, 104, 105]\n",
      "[1, 4, 5, 6, 10, 11, 12, 14, 15, 18, 22, 27, 28, 39, 40, 41, 42, 44, 46, 47, 48, 51, 54, 55, 56, 57, 58, 59, 60, 61, 62, 63, 65, 66, 72, 77, 79, 80, 81, 82, 83, 85, 86, 89, 98, 101, 102, 104, 105, 107, 108, 109]\n"
     ]
    },
    {
     "data": {
      "text/plain": [
       "[None, None, None, None, None, None, None]"
      ]
     },
     "execution_count": 9,
     "metadata": {},
     "output_type": "execute_result"
    }
   ],
   "source": [
    "[print(m) for m in masks]"
   ]
  },
  {
   "cell_type": "code",
   "execution_count": 13,
   "metadata": {},
   "outputs": [
    {
     "name": "stdout",
     "output_type": "stream",
     "text": [
      "select #1:8@CA; color sel #fcff5d; select #2:5@CA; color sel #fcff5d; select #3:6@CA; color sel #fcff5d; select #4:3@CA; color sel #fcff5d; select #5:8@CA; color sel #fcff5d; select #6:1@CA; color sel #fcff5d; select #7:1@CA; color sel #fcff5d; select #1:11@CA; color sel #7dfc00; select #2:8@CA; color sel #7dfc00; select #3:9@CA; color sel #7dfc00; select #4:6@CA; color sel #7dfc00; select #5:11@CA; color sel #7dfc00; select #6:4@CA; color sel #7dfc00; select #7:4@CA; color sel #7dfc00; select #1:12@CA; color sel #0ec434; select #2:9@CA; color sel #0ec434; select #3:10@CA; color sel #0ec434; select #4:7@CA; color sel #0ec434; select #5:12@CA; color sel #0ec434; select #6:5@CA; color sel #0ec434; select #7:5@CA; color sel #0ec434; select #1:13@CA; color sel #228c68; select #2:10@CA; color sel #228c68; select #3:11@CA; color sel #228c68; select #4:8@CA; color sel #228c68; select #5:13@CA; color sel #228c68; select #6:6@CA; color sel #228c68; select #7:6@CA; color sel #228c68; select #1:17@CA; color sel #8ad8e8; select #2:14@CA; color sel #8ad8e8; select #3:15@CA; color sel #8ad8e8; select #4:12@CA; color sel #8ad8e8; select #5:17@CA; color sel #8ad8e8; select #6:10@CA; color sel #8ad8e8; select #7:10@CA; color sel #8ad8e8; select #1:18@CA; color sel #235b54; select #2:15@CA; color sel #235b54; select #3:16@CA; color sel #235b54; select #4:13@CA; color sel #235b54; select #5:18@CA; color sel #235b54; select #6:11@CA; color sel #235b54; select #7:11@CA; color sel #235b54; select #1:19@CA; color sel #29bdab; select #2:16@CA; color sel #29bdab; select #3:17@CA; color sel #29bdab; select #4:14@CA; color sel #29bdab; select #5:19@CA; color sel #29bdab; select #6:12@CA; color sel #29bdab; select #7:12@CA; color sel #29bdab; select #1:21@CA; color sel #3998f5; select #2:18@CA; color sel #3998f5; select #3:19@CA; color sel #3998f5; select #4:16@CA; color sel #3998f5; select #5:21@CA; color sel #3998f5; select #6:14@CA; color sel #3998f5; select #7:14@CA; color sel #3998f5; select #1:22@CA; color sel #37294f; select #2:19@CA; color sel #37294f; select #3:20@CA; color sel #37294f; select #4:17@CA; color sel #37294f; select #5:22@CA; color sel #37294f; select #6:15@CA; color sel #37294f; select #7:15@CA; color sel #37294f; select #1:25@CA; color sel #277da7; select #2:22@CA; color sel #277da7; select #3:23@CA; color sel #277da7; select #4:20@CA; color sel #277da7; select #5:25@CA; color sel #277da7; select #6:18@CA; color sel #277da7; select #7:18@CA; color sel #277da7; select #1:29@CA; color sel #3750db; select #2:26@CA; color sel #3750db; select #3:27@CA; color sel #3750db; select #4:24@CA; color sel #3750db; select #5:29@CA; color sel #3750db; select #6:22@CA; color sel #3750db; select #7:22@CA; color sel #3750db; select #1:34@CA; color sel #f22020; select #2:31@CA; color sel #f22020; select #3:31@CA; color sel #f22020; select #4:29@CA; color sel #f22020; select #5:34@CA; color sel #f22020; select #6:27@CA; color sel #f22020; select #7:27@CA; color sel #f22020; select #1:35@CA; color sel #991919; select #2:32@CA; color sel #991919; select #3:32@CA; color sel #991919; select #4:30@CA; color sel #991919; select #5:35@CA; color sel #991919; select #6:28@CA; color sel #991919; select #7:28@CA; color sel #991919; select #1:47@CA; color sel #ffcba5; select #2:44@CA; color sel #ffcba5; select #3:44@CA; color sel #ffcba5; select #4:42@CA; color sel #ffcba5; select #5:47@CA; color sel #ffcba5; select #6:40@CA; color sel #ffcba5; select #7:39@CA; color sel #ffcba5; select #1:48@CA; color sel #e68f66; select #2:45@CA; color sel #e68f66; select #3:45@CA; color sel #e68f66; select #4:43@CA; color sel #e68f66; select #5:48@CA; color sel #e68f66; select #6:41@CA; color sel #e68f66; select #7:40@CA; color sel #e68f66; select #1:49@CA; color sel #c56133; select #2:46@CA; color sel #c56133; select #3:46@CA; color sel #c56133; select #4:44@CA; color sel #c56133; select #5:49@CA; color sel #c56133; select #6:42@CA; color sel #c56133; select #7:41@CA; color sel #c56133; select #1:50@CA; color sel #96341c; select #2:47@CA; color sel #96341c; select #3:47@CA; color sel #96341c; select #4:45@CA; color sel #96341c; select #5:50@CA; color sel #96341c; select #6:43@CA; color sel #96341c; select #7:42@CA; color sel #96341c; select #1:52@CA; color sel #632819; select #2:49@CA; color sel #632819; select #3:49@CA; color sel #632819; select #4:47@CA; color sel #632819; select #5:52@CA; color sel #632819; select #6:45@CA; color sel #632819; select #7:44@CA; color sel #632819; select #1:54@CA; color sel #ffc413; select #2:51@CA; color sel #ffc413; select #3:51@CA; color sel #ffc413; select #4:49@CA; color sel #ffc413; select #5:54@CA; color sel #ffc413; select #6:47@CA; color sel #ffc413; select #7:46@CA; color sel #ffc413; select #1:55@CA; color sel #f47a22; select #2:52@CA; color sel #f47a22; select #3:52@CA; color sel #f47a22; select #4:50@CA; color sel #f47a22; select #5:55@CA; color sel #f47a22; select #6:48@CA; color sel #f47a22; select #7:47@CA; color sel #f47a22; select #1:57@CA; color sel #2f2aa0; select #2:53@CA; color sel #2f2aa0; select #3:54@CA; color sel #2f2aa0; select #4:51@CA; color sel #2f2aa0; select #5:57@CA; color sel #2f2aa0; select #6:49@CA; color sel #2f2aa0; select #7:48@CA; color sel #2f2aa0; select #1:60@CA; color sel #b732cc; select #2:56@CA; color sel #b732cc; select #3:57@CA; color sel #b732cc; select #4:54@CA; color sel #b732cc; select #5:60@CA; color sel #b732cc; select #6:52@CA; color sel #b732cc; select #7:51@CA; color sel #b732cc; select #1:63@CA; color sel #772b9d; select #2:59@CA; color sel #772b9d; select #3:60@CA; color sel #772b9d; select #4:57@CA; color sel #772b9d; select #5:63@CA; color sel #772b9d; select #6:55@CA; color sel #772b9d; select #7:54@CA; color sel #772b9d; select #1:64@CA; color sel #f07cab; select #2:60@CA; color sel #f07cab; select #3:61@CA; color sel #f07cab; select #4:58@CA; color sel #f07cab; select #5:64@CA; color sel #f07cab; select #6:56@CA; color sel #f07cab; select #7:55@CA; color sel #f07cab; select #1:65@CA; color sel #d30b94; select #2:61@CA; color sel #d30b94; select #3:62@CA; color sel #d30b94; select #4:59@CA; color sel #d30b94; select #5:65@CA; color sel #d30b94; select #6:57@CA; color sel #d30b94; select #7:56@CA; color sel #d30b94; select #1:66@CA; color sel #edeff3; select #2:62@CA; color sel #edeff3; select #3:63@CA; color sel #edeff3; select #4:60@CA; color sel #edeff3; select #5:66@CA; color sel #edeff3; select #6:58@CA; color sel #edeff3; select #7:57@CA; color sel #edeff3; select #1:67@CA; color sel #c3a5b4; select #2:63@CA; color sel #c3a5b4; select #3:64@CA; color sel #c3a5b4; select #4:61@CA; color sel #c3a5b4; select #5:67@CA; color sel #c3a5b4; select #6:59@CA; color sel #c3a5b4; select #7:58@CA; color sel #c3a5b4; select #1:68@CA; color sel #946aa2; select #2:64@CA; color sel #946aa2; select #3:65@CA; color sel #946aa2; select #4:62@CA; color sel #946aa2; select #5:68@CA; color sel #946aa2; select #6:60@CA; color sel #946aa2; select #7:59@CA; color sel #946aa2; select #1:69@CA; color sel #5d4c86; select #2:65@CA; color sel #5d4c86; select #3:66@CA; color sel #5d4c86; select #4:63@CA; color sel #5d4c86; select #5:69@CA; color sel #5d4c86; select #6:61@CA; color sel #5d4c86; select #7:60@CA; color sel #5d4c86; select #1:70@CA; color sel #201923; select #2:66@CA; color sel #201923; select #3:67@CA; color sel #201923; select #4:64@CA; color sel #201923; select #5:70@CA; color sel #201923; select #6:62@CA; color sel #201923; select #7:61@CA; color sel #201923; select #1:71@CA; color sel #fcff5d; select #2:67@CA; color sel #fcff5d; select #3:68@CA; color sel #fcff5d; select #4:65@CA; color sel #fcff5d; select #5:71@CA; color sel #fcff5d; select #6:63@CA; color sel #fcff5d; select #7:62@CA; color sel #fcff5d; select #1:72@CA; color sel #7dfc00; select #2:68@CA; color sel #7dfc00; select #3:69@CA; color sel #7dfc00; select #4:66@CA; color sel #7dfc00; select #5:72@CA; color sel #7dfc00; select #6:64@CA; color sel #7dfc00; select #7:63@CA; color sel #7dfc00; select #1:74@CA; color sel #0ec434; select #2:70@CA; color sel #0ec434; select #3:71@CA; color sel #0ec434; select #4:68@CA; color sel #0ec434; select #5:74@CA; color sel #0ec434; select #6:66@CA; color sel #0ec434; select #7:65@CA; color sel #0ec434; select #1:75@CA; color sel #228c68; select #2:71@CA; color sel #228c68; select #3:72@CA; color sel #228c68; select #4:69@CA; color sel #228c68; select #5:75@CA; color sel #228c68; select #6:67@CA; color sel #228c68; select #7:66@CA; color sel #228c68; select #1:81@CA; color sel #8ad8e8; select #2:77@CA; color sel #8ad8e8; select #3:78@CA; color sel #8ad8e8; select #4:75@CA; color sel #8ad8e8; select #5:81@CA; color sel #8ad8e8; select #6:73@CA; color sel #8ad8e8; select #7:72@CA; color sel #8ad8e8; select #1:86@CA; color sel #235b54; select #2:81@CA; color sel #235b54; select #3:82@CA; color sel #235b54; select #4:80@CA; color sel #235b54; select #5:85@CA; color sel #235b54; select #6:77@CA; color sel #235b54; select #7:77@CA; color sel #235b54; select #1:88@CA; color sel #29bdab; select #2:83@CA; color sel #29bdab; select #3:84@CA; color sel #29bdab; select #4:82@CA; color sel #29bdab; select #5:87@CA; color sel #29bdab; select #6:79@CA; color sel #29bdab; select #7:79@CA; color sel #29bdab; select #1:89@CA; color sel #3998f5; select #2:84@CA; color sel #3998f5; select #3:85@CA; color sel #3998f5; select #4:83@CA; color sel #3998f5; select #5:88@CA; color sel #3998f5; select #6:80@CA; color sel #3998f5; select #7:80@CA; color sel #3998f5; select #1:90@CA; color sel #37294f; select #2:85@CA; color sel #37294f; select #3:86@CA; color sel #37294f; select #4:84@CA; color sel #37294f; select #5:89@CA; color sel #37294f; select #6:81@CA; color sel #37294f; select #7:81@CA; color sel #37294f; select #1:91@CA; color sel #277da7; select #2:86@CA; color sel #277da7; select #3:87@CA; color sel #277da7; select #4:85@CA; color sel #277da7; select #5:90@CA; color sel #277da7; select #6:82@CA; color sel #277da7; select #7:82@CA; color sel #277da7; select #1:92@CA; color sel #3750db; select #2:87@CA; color sel #3750db; select #3:88@CA; color sel #3750db; select #4:86@CA; color sel #3750db; select #5:91@CA; color sel #3750db; select #6:83@CA; color sel #3750db; select #7:83@CA; color sel #3750db; select #1:94@CA; color sel #f22020; select #2:89@CA; color sel #f22020; select #3:90@CA; color sel #f22020; select #4:88@CA; color sel #f22020; select #5:93@CA; color sel #f22020; select #6:85@CA; color sel #f22020; select #7:85@CA; color sel #f22020; select #1:95@CA; color sel #991919; select #2:90@CA; color sel #991919; select #3:91@CA; color sel #991919; select #4:89@CA; color sel #991919; select #5:94@CA; color sel #991919; select #6:86@CA; color sel #991919; select #7:86@CA; color sel #991919; select #1:98@CA; color sel #ffcba5; select #2:93@CA; color sel #ffcba5; select #3:94@CA; color sel #ffcba5; select #4:92@CA; color sel #ffcba5; select #5:97@CA; color sel #ffcba5; select #6:89@CA; color sel #ffcba5; select #7:89@CA; color sel #ffcba5; select #1:103@CA; color sel #e68f66; select #2:98@CA; color sel #e68f66; select #3:99@CA; color sel #e68f66; select #4:97@CA; color sel #e68f66; select #5:102@CA; color sel #e68f66; select #6:94@CA; color sel #e68f66; select #7:98@CA; color sel #e68f66; select #1:106@CA; color sel #c56133; select #2:101@CA; color sel #c56133; select #3:102@CA; color sel #c56133; select #4:100@CA; color sel #c56133; select #5:105@CA; color sel #c56133; select #6:97@CA; color sel #c56133; select #7:101@CA; color sel #c56133; select #1:107@CA; color sel #96341c; select #2:102@CA; color sel #96341c; select #3:103@CA; color sel #96341c; select #4:101@CA; color sel #96341c; select #5:106@CA; color sel #96341c; select #6:98@CA; color sel #96341c; select #7:102@CA; color sel #96341c; select #1:109@CA; color sel #632819; select #2:104@CA; color sel #632819; select #3:105@CA; color sel #632819; select #4:103@CA; color sel #632819; select #5:108@CA; color sel #632819; select #6:100@CA; color sel #632819; select #7:104@CA; color sel #632819; select #1:110@CA; color sel #ffc413; select #2:105@CA; color sel #ffc413; select #3:106@CA; color sel #ffc413; select #4:104@CA; color sel #ffc413; select #5:109@CA; color sel #ffc413; select #6:101@CA; color sel #ffc413; select #7:105@CA; color sel #ffc413; select #1:112@CA; color sel #f47a22; select #2:107@CA; color sel #f47a22; select #3:108@CA; color sel #f47a22; select #4:106@CA; color sel #f47a22; select #5:111@CA; color sel #f47a22; select #6:103@CA; color sel #f47a22; select #7:107@CA; color sel #f47a22; select #1:113@CA; color sel #2f2aa0; select #2:108@CA; color sel #2f2aa0; select #3:109@CA; color sel #2f2aa0; select #4:107@CA; color sel #2f2aa0; select #5:112@CA; color sel #2f2aa0; select #6:104@CA; color sel #2f2aa0; select #7:108@CA; color sel #2f2aa0; select #1:114@CA; color sel #b732cc; select #2:109@CA; color sel #b732cc; select #3:110@CA; color sel #b732cc; select #4:108@CA; color sel #b732cc; select #5:113@CA; color sel #b732cc; select #6:105@CA; color sel #b732cc; select #7:109@CA; color sel #b732cc\n"
     ]
    }
   ],
   "source": [
    "bold = ['#fcff5d', '#7dfc00', '#0ec434', '#228c68', '#8ad8e8', '#235b54', '#29bdab', '#3998f5', '#37294f', '#277da7', '#3750db', '#f22020', '#991919', '#ffcba5', '#e68f66', '#c56133', '#96341c', '#632819', '#ffc413', '#f47a22', '#2f2aa0', '#b732cc', '#772b9d', '#f07cab', '#d30b94', '#edeff3', '#c3a5b4', '#946aa2', '#5d4c86', '#201923', '#fcff5d', '#7dfc00', '#0ec434', '#228c68', '#8ad8e8', '#235b54', '#29bdab', '#3998f5', '#37294f', '#277da7', '#3750db', '#f22020', '#991919', '#ffcba5', '#e68f66', '#c56133', '#96341c', '#632819', '#ffc413', '#f47a22', '#2f2aa0', '#b732cc', '#772b9d', '#f07cab', '#d30b94', '#edeff3', '#c3a5b4', '#946aa2', '#5d4c86', '#201923']\n",
    "color_command = []\n",
    "for i in range(52):\n",
    "    for j in range(7):\n",
    "        color_command.append('select #%d:%d@CA; color sel %s'%(j+1, masks[j][i], bold[i]))\n",
    "\n",
    "print('; '.join(color_command[:]))"
   ]
  },
  {
   "cell_type": "code",
   "execution_count": null,
   "metadata": {},
   "outputs": [],
   "source": []
  }
 ],
 "metadata": {
  "kernelspec": {
   "display_name": "Python 3",
   "language": "python",
   "name": "python3"
  },
  "language_info": {
   "codemirror_mode": {
    "name": "ipython",
    "version": 3
   },
   "file_extension": ".py",
   "mimetype": "text/x-python",
   "name": "python",
   "nbconvert_exporter": "python",
   "pygments_lexer": "ipython3",
   "version": "3.9.15"
  },
  "orig_nbformat": 4,
  "vscode": {
   "interpreter": {
    "hash": "a665b5d41d17b532ea9890333293a1b812fa0b73c9c25c950b3cedf1bebd0438"
   }
  }
 },
 "nbformat": 4,
 "nbformat_minor": 2
}
