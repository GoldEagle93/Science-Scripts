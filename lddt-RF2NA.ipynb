{
 "cells": [
  {
   "cell_type": "code",
   "execution_count": 3,
   "metadata": {},
   "outputs": [],
   "source": [
    "import numpy as np\n",
    "import os\n",
    "os.chdir('/Users/HQ/orange/Reza/TF/RF2NA/cg-1cdw/output/models/')\n"
   ]
  },
  {
   "cell_type": "code",
   "execution_count": 14,
   "metadata": {},
   "outputs": [],
   "source": [
    "a = np.load('model_00.npz')\n",
    "b = np.load('/Users/HQ/orange/Reza/TF/RF2NA/1cdw/output/models/model_00.npz')"
   ]
  },
  {
   "cell_type": "code",
   "execution_count": 8,
   "metadata": {},
   "outputs": [
    {
     "ename": "NameError",
     "evalue": "name 'desc' is not defined",
     "output_type": "error",
     "traceback": [
      "\u001b[0;31m---------------------------------------------------------------------------\u001b[0m",
      "\u001b[0;31mNameError\u001b[0m                                 Traceback (most recent call last)",
      "\u001b[0;32m/var/folders/r1/5lqlt7yn3rz389l0k6bymn_h0000gn/T/ipykernel_7056/775282142.py\u001b[0m in \u001b[0;36m<module>\u001b[0;34m\u001b[0m\n\u001b[0;32m----> 1\u001b[0;31m \u001b[0mdesc\u001b[0m\u001b[0;34m(\u001b[0m\u001b[0ma\u001b[0m\u001b[0;34m)\u001b[0m\u001b[0;34m\u001b[0m\u001b[0;34m\u001b[0m\u001b[0m\n\u001b[0m",
      "\u001b[0;31mNameError\u001b[0m: name 'desc' is not defined"
     ]
    }
   ],
   "source": [
    "lst = b.files\n",
    "\n",
    "for item in lst:\n",
    "    print(item)\n",
    "    print(a[item])"
   ]
  },
  {
   "cell_type": "code",
   "execution_count": 10,
   "metadata": {},
   "outputs": [
    {
     "data": {
      "text/plain": [
       "KeysView(<numpy.lib.npyio.NpzFile object at 0x10c3cfe20>)"
      ]
     },
     "execution_count": 10,
     "metadata": {},
     "output_type": "execute_result"
    }
   ],
   "source": [
    "a.keys()"
   ]
  },
  {
   "cell_type": "code",
   "execution_count": 12,
   "metadata": {},
   "outputs": [
    {
     "name": "stdout",
     "output_type": "stream",
     "text": [
      "dist\n",
      "[[[0.000e+00 0.000e+00 0.000e+00 ... 0.000e+00 0.000e+00 1.000e+00]\n",
      "  [3.517e-06 4.125e-05 1.749e-03 ... 5.960e-08 1.192e-07 5.960e-08]\n",
      "  [3.576e-07 7.153e-07 2.164e-05 ... 4.232e-06 1.490e-06 1.729e-06]\n",
      "  ...\n",
      "  [5.364e-07 1.192e-06 3.874e-06 ... 3.569e-03 4.032e-03 9.609e-01]\n",
      "  [2.384e-06 6.020e-06 1.663e-05 ... 3.778e-03 4.269e-03 9.438e-01]\n",
      "  [8.285e-06 1.347e-05 4.679e-05 ... 5.913e-03 6.096e-03 9.082e-01]]\n",
      "\n",
      " [[3.517e-06 4.125e-05 1.749e-03 ... 5.960e-08 1.192e-07 5.960e-08]\n",
      "  [0.000e+00 0.000e+00 0.000e+00 ... 0.000e+00 0.000e+00 1.000e+00]\n",
      "  [0.000e+00 1.013e-06 3.451e-05 ... 0.000e+00 0.000e+00 0.000e+00]\n",
      "  ...\n",
      "  [2.980e-07 6.557e-07 2.086e-06 ... 3.784e-03 4.169e-03 9.619e-01]\n",
      "  [8.941e-07 2.563e-06 6.855e-06 ... 5.081e-03 5.215e-03 9.326e-01]\n",
      "  [2.563e-06 8.404e-06 2.664e-05 ... 5.222e-03 5.348e-03 9.019e-01]]\n",
      "\n",
      " [[3.576e-07 7.153e-07 2.164e-05 ... 4.232e-06 1.490e-06 1.729e-06]\n",
      "  [0.000e+00 1.013e-06 3.451e-05 ... 0.000e+00 0.000e+00 0.000e+00]\n",
      "  [0.000e+00 0.000e+00 0.000e+00 ... 0.000e+00 0.000e+00 1.000e+00]\n",
      "  ...\n",
      "  [2.384e-07 5.364e-07 1.788e-06 ... 2.279e-03 2.544e-03 9.771e-01]\n",
      "  [5.960e-07 1.967e-06 5.722e-06 ... 4.059e-03 4.208e-03 9.507e-01]\n",
      "  [2.503e-06 8.523e-06 2.617e-05 ... 4.444e-03 4.608e-03 9.297e-01]]\n",
      "\n",
      " ...\n",
      "\n",
      " [[5.364e-07 1.192e-06 3.874e-06 ... 3.569e-03 4.032e-03 9.609e-01]\n",
      "  [2.980e-07 6.557e-07 2.086e-06 ... 3.784e-03 4.169e-03 9.619e-01]\n",
      "  [2.384e-07 5.364e-07 1.788e-06 ... 2.279e-03 2.544e-03 9.771e-01]\n",
      "  ...\n",
      "  [0.000e+00 0.000e+00 0.000e+00 ... 0.000e+00 0.000e+00 1.000e+00]\n",
      "  [3.808e-04 1.335e-03 3.565e-03 ... 4.172e-07 1.192e-07 2.384e-07]\n",
      "  [2.146e-06 1.073e-06 1.353e-05 ... 7.153e-07 2.801e-06 1.192e-07]]\n",
      "\n",
      " [[2.384e-06 6.020e-06 1.663e-05 ... 3.778e-03 4.269e-03 9.438e-01]\n",
      "  [8.941e-07 2.563e-06 6.855e-06 ... 5.081e-03 5.215e-03 9.326e-01]\n",
      "  [5.960e-07 1.967e-06 5.722e-06 ... 4.059e-03 4.208e-03 9.507e-01]\n",
      "  ...\n",
      "  [3.808e-04 1.335e-03 3.565e-03 ... 4.172e-07 1.192e-07 2.384e-07]\n",
      "  [0.000e+00 0.000e+00 0.000e+00 ... 0.000e+00 0.000e+00 1.000e+00]\n",
      "  [1.496e-05 8.011e-05 3.738e-04 ... 7.153e-07 1.788e-07 1.192e-07]]\n",
      "\n",
      " [[8.285e-06 1.347e-05 4.679e-05 ... 5.913e-03 6.096e-03 9.082e-01]\n",
      "  [2.563e-06 8.404e-06 2.664e-05 ... 5.222e-03 5.348e-03 9.019e-01]\n",
      "  [2.503e-06 8.523e-06 2.617e-05 ... 4.444e-03 4.608e-03 9.297e-01]\n",
      "  ...\n",
      "  [2.146e-06 1.073e-06 1.353e-05 ... 7.153e-07 2.801e-06 1.192e-07]\n",
      "  [1.496e-05 8.011e-05 3.738e-04 ... 7.153e-07 1.788e-07 1.192e-07]\n",
      "  [0.000e+00 0.000e+00 0.000e+00 ... 0.000e+00 0.000e+00 1.000e+00]]]\n",
      "lddt\n",
      "[0.6245 0.6973 0.685  0.6733 0.6562 0.653  0.65   0.6523 0.6377 0.648\n",
      " 0.6973 0.718  0.7295 0.7295 0.7183 0.671  0.633  0.6577 0.6396 0.6646\n",
      " 0.698  0.7065 0.6743 0.6226 0.589  0.559  0.492  0.4587 0.4653 0.4946\n",
      " 0.4973 0.3743 0.479  0.5137 0.4912 0.4912 0.4966 0.571  0.6074 0.681\n",
      " 0.669  0.727  0.738  0.821  0.829  0.841  0.752  0.8223 0.814  0.8013\n",
      " 0.764  0.7935 0.7446 0.7144 0.6675 0.7324 0.625  0.6807 0.7544 0.7134\n",
      " 0.72   0.7056 0.7417 0.6514 0.557  0.5693 0.6377 0.698  0.7427 0.6826\n",
      " 0.7285 0.592  0.6235 0.697  0.594  0.7114 0.6724 0.7354 0.666  0.6855\n",
      " 0.7485 0.74   0.8174 0.697  0.746  0.6426 0.7236 0.6484 0.678  0.7197\n",
      " 0.6514 0.772  0.7354 0.741  0.774  0.7847 0.759  0.8276 0.831  0.8335\n",
      " 0.782  0.8193 0.808  0.853  0.728  0.8057 0.813  0.7324 0.7354 0.8105\n",
      " 0.819  0.847  0.8477 0.796  0.8267 0.811  0.749  0.74   0.65   0.601\n",
      " 0.647  0.616  0.705  0.677  0.7173 0.6865 0.7656 0.7026 0.718  0.671\n",
      " 0.6655 0.749  0.7393 0.7876 0.795  0.79   0.7783 0.7686 0.7383 0.643\n",
      " 0.7515 0.6987 0.695  0.658  0.709  0.6157 0.579  0.5625 0.652  0.702\n",
      " 0.736  0.735  0.641  0.7285 0.6465 0.677  0.604  0.732  0.7017 0.758\n",
      " 0.7095 0.6953 0.663  0.7236 0.662  0.742  0.675  0.7104 0.637  0.654\n",
      " 0.6904 0.6323 0.7007 0.662  0.754  0.7056 0.682  0.7324 0.7695 0.772\n",
      " 0.739  0.7363 0.65   0.6865 0.6807 0.703  0.7715 0.7305 0.6606 0.5674]\n",
      "pae\n",
      "[[ 0.5     3.672   6.71   ... 23.52   23.4    23.31  ]\n",
      " [ 3.533   0.5     2.592  ... 20.03   19.48   20.94  ]\n",
      " [ 4.688   2.88    0.5    ... 19.56   19.22   20.34  ]\n",
      " ...\n",
      " [15.586  14.36   14.336  ...  0.5     0.7397  1.912 ]\n",
      " [18.52   17.4    16.75   ...  0.6895  0.5     1.166 ]\n",
      " [22.3    23.55   23.53   ...  2.809   1.179   0.5   ]]\n"
     ]
    }
   ],
   "source": [
    "lst = a.files\n",
    "\n",
    "for item in lst:\n",
    "    print(item)\n",
    "    print(a[item])"
   ]
  },
  {
   "cell_type": "code",
   "execution_count": 13,
   "metadata": {},
   "outputs": [
    {
     "data": {
      "text/plain": [
       "array([0.6245, 0.6973, 0.685 , 0.6733, 0.6562, 0.653 , 0.65  , 0.6523,\n",
       "       0.6377, 0.648 , 0.6973, 0.718 , 0.7295, 0.7295, 0.7183, 0.671 ,\n",
       "       0.633 , 0.6577, 0.6396, 0.6646, 0.698 , 0.7065, 0.6743, 0.6226,\n",
       "       0.589 , 0.559 , 0.492 , 0.4587, 0.4653, 0.4946, 0.4973, 0.3743,\n",
       "       0.479 , 0.5137, 0.4912, 0.4912, 0.4966, 0.571 , 0.6074, 0.681 ,\n",
       "       0.669 , 0.727 , 0.738 , 0.821 , 0.829 , 0.841 , 0.752 , 0.8223,\n",
       "       0.814 , 0.8013, 0.764 , 0.7935, 0.7446, 0.7144, 0.6675, 0.7324,\n",
       "       0.625 , 0.6807, 0.7544, 0.7134, 0.72  , 0.7056, 0.7417, 0.6514,\n",
       "       0.557 , 0.5693, 0.6377, 0.698 , 0.7427, 0.6826, 0.7285, 0.592 ,\n",
       "       0.6235, 0.697 , 0.594 , 0.7114, 0.6724, 0.7354, 0.666 , 0.6855,\n",
       "       0.7485, 0.74  , 0.8174, 0.697 , 0.746 , 0.6426, 0.7236, 0.6484,\n",
       "       0.678 , 0.7197, 0.6514, 0.772 , 0.7354, 0.741 , 0.774 , 0.7847,\n",
       "       0.759 , 0.8276, 0.831 , 0.8335, 0.782 , 0.8193, 0.808 , 0.853 ,\n",
       "       0.728 , 0.8057, 0.813 , 0.7324, 0.7354, 0.8105, 0.819 , 0.847 ,\n",
       "       0.8477, 0.796 , 0.8267, 0.811 , 0.749 , 0.74  , 0.65  , 0.601 ,\n",
       "       0.647 , 0.616 , 0.705 , 0.677 , 0.7173, 0.6865, 0.7656, 0.7026,\n",
       "       0.718 , 0.671 , 0.6655, 0.749 , 0.7393, 0.7876, 0.795 , 0.79  ,\n",
       "       0.7783, 0.7686, 0.7383, 0.643 , 0.7515, 0.6987, 0.695 , 0.658 ,\n",
       "       0.709 , 0.6157, 0.579 , 0.5625, 0.652 , 0.702 , 0.736 , 0.735 ,\n",
       "       0.641 , 0.7285, 0.6465, 0.677 , 0.604 , 0.732 , 0.7017, 0.758 ,\n",
       "       0.7095, 0.6953, 0.663 , 0.7236, 0.662 , 0.742 , 0.675 , 0.7104,\n",
       "       0.637 , 0.654 , 0.6904, 0.6323, 0.7007, 0.662 , 0.754 , 0.7056,\n",
       "       0.682 , 0.7324, 0.7695, 0.772 , 0.739 , 0.7363, 0.65  , 0.6865,\n",
       "       0.6807, 0.703 , 0.7715, 0.7305, 0.6606, 0.5674], dtype=float16)"
      ]
     },
     "execution_count": 13,
     "metadata": {},
     "output_type": "execute_result"
    }
   ],
   "source": [
    "a['lddt']"
   ]
  },
  {
   "cell_type": "code",
   "execution_count": 15,
   "metadata": {},
   "outputs": [
    {
     "data": {
      "text/plain": [
       "array([0.488 , 0.5913, 0.54  , 0.689 , 0.763 , 0.7847, 0.775 , 0.777 ,\n",
       "       0.7446, 0.676 , 0.622 , 0.5776, 0.6074, 0.6553, 0.656 , 0.6   ,\n",
       "       0.4858, 0.5566, 0.5283, 0.675 , 0.7583, 0.773 , 0.78  , 0.7827,\n",
       "       0.761 , 0.676 , 0.6484, 0.683 , 0.688 , 0.738 , 0.7363, 0.648 ,\n",
       "       0.537 , 0.634 , 0.6577, 0.645 , 0.626 , 0.5493, 0.5786, 0.609 ,\n",
       "       0.6006, 0.6167, 0.5845, 0.6597, 0.6914, 0.7656, 0.73  , 0.8096,\n",
       "       0.824 , 0.833 , 0.7754, 0.8223, 0.8413, 0.8027, 0.749 , 0.843 ,\n",
       "       0.724 , 0.787 , 0.87  , 0.791 , 0.832 , 0.7925, 0.797 , 0.7114,\n",
       "       0.6494, 0.696 , 0.75  , 0.839 , 0.865 , 0.8076, 0.806 , 0.744 ,\n",
       "       0.764 , 0.8555, 0.754 , 0.8574, 0.826 , 0.8677, 0.785 , 0.742 ,\n",
       "       0.7974, 0.7764, 0.822 , 0.755 , 0.798 , 0.7983, 0.843 , 0.804 ,\n",
       "       0.823 , 0.8384, 0.753 , 0.843 , 0.775 , 0.7734, 0.838 , 0.8613,\n",
       "       0.7905, 0.8667, 0.8896, 0.8887, 0.799 , 0.8564, 0.863 , 0.886 ,\n",
       "       0.762 , 0.8643, 0.861 , 0.8057, 0.7964, 0.836 , 0.8003, 0.836 ,\n",
       "       0.8335, 0.782 , 0.8267, 0.7974, 0.7676, 0.807 , 0.7305, 0.748 ,\n",
       "       0.7886, 0.799 , 0.833 , 0.809 , 0.8057, 0.7964, 0.7773, 0.7373,\n",
       "       0.6465, 0.7305, 0.6904, 0.817 , 0.77  , 0.824 , 0.8027, 0.815 ,\n",
       "       0.8096, 0.802 , 0.768 , 0.6943, 0.8   , 0.7974, 0.809 , 0.784 ,\n",
       "       0.8223, 0.757 , 0.7646, 0.776 , 0.814 , 0.8306, 0.8047, 0.771 ,\n",
       "       0.691 , 0.7417, 0.6934, 0.7544, 0.7217, 0.7954, 0.8076, 0.803 ,\n",
       "       0.8   , 0.7876, 0.799 , 0.824 , 0.789 , 0.82  , 0.823 , 0.7915,\n",
       "       0.7764, 0.7754, 0.803 , 0.726 , 0.756 , 0.671 , 0.742 , 0.692 ,\n",
       "       0.593 , 0.634 , 0.718 , 0.695 , 0.667 , 0.6606, 0.5796, 0.6846,\n",
       "       0.6714, 0.6504, 0.709 , 0.6943, 0.6167, 0.5425], dtype=float16)"
      ]
     },
     "execution_count": 15,
     "metadata": {},
     "output_type": "execute_result"
    }
   ],
   "source": [
    "b['lddt']"
   ]
  },
  {
   "cell_type": "code",
   "execution_count": 28,
   "metadata": {},
   "outputs": [
    {
     "data": {
      "image/png": "[encoded data removed]",
      "text/plain": [
       "<Figure size 432x288 with 1 Axes>"
      ]
     },
     "metadata": {
      "needs_background": "light"
     },
     "output_type": "display_data"
    }
   ],
   "source": [
    "import matplotlib.pyplot as plt\n",
    "\n",
    "# fig = plt.figure(aspect=1)\n",
    "c = np.linspace(0, 1)\n",
    "plt.scatter(b['lddt'], a['lddt'])\n",
    "plt.plot(c, c, color='red')\n",
    "plt.xlim(0 , 1)\n",
    "plt.ylim(0 , 1)\n",
    "axes=plt.gca()\n",
    "axes.set_aspect(1)"
   ]
  },
  {
   "cell_type": "code",
   "execution_count": 16,
   "metadata": {},
   "outputs": [
    {
     "data": {
      "text/plain": [
       "190"
      ]
     },
     "execution_count": 16,
     "metadata": {},
     "output_type": "execute_result"
    }
   ],
   "source": [
    "len(b['lddt'], a['lddt'])"
   ]
  },
  {
   "cell_type": "code",
   "execution_count": null,
   "metadata": {},
   "outputs": [],
   "source": []
  }
 ],
 "metadata": {
  "kernelspec": {
   "display_name": "Python 3.9.13 64-bit",
   "language": "python",
   "name": "python3"
  },
  "language_info": {
   "codemirror_mode": {
    "name": "ipython",
    "version": 3
   },
   "file_extension": ".py",
   "mimetype": "text/x-python",
   "name": "python",
   "nbconvert_exporter": "python",
   "pygments_lexer": "ipython3",
   "version": "3.9.13"
  },
  "orig_nbformat": 4,
  "vscode": {
   "interpreter": {
    "hash": "a665b5d41d17b532ea9890333293a1b812fa0b73c9c25c950b3cedf1bebd0438"
   }
  }
 },
 "nbformat": 4,
 "nbformat_minor": 2
}
