{
 "cells": [
  {
   "cell_type": "code",
   "execution_count": 1,
   "metadata": {},
   "outputs": [
    {
     "name": "stdout",
     "output_type": "stream",
     "text": [
      "1a74    20.7824    19.8    3.34\n",
      "1azp    5.967    5.96    1.85\n",
      "1by4    13.6131    13.1    3.70\n",
      "1bgb    9.56    9.14    7.98\n",
      "2b0d    9.5965    7.98    7.79\n",
      "1cdw    10.7665    10.3    2.40\n",
      "1dh3    5.8264    5.41    4.84\n",
      "1jj4    4.9083    3.71    2.57\n",
      "1r4o    9.6883    9.68    2.89\n",
      "1r4r    21.6491    20.9    8.44\n",
      "1zme    8.6608    7.32    2.92\n",
      "2r1j    18.2082    18.0    2.86\n",
      "3cro    19.6386    7.09    2.79\n",
      "1ysa    6.6478    6.42    5.90\n",
      "2dgc    13.1335    7.54    6.03\n"
     ]
    }
   ],
   "source": [
    "import os\n",
    "import pandas as pd\n",
    "\n",
    "def find_lowest_RMSD(df):\n",
    "    min = 500\n",
    "    col = 0\n",
    "    row = 0\n",
    "    for i in range(1, len(df.columns)):\n",
    "        for j in range(len(df[df.columns[i]])):\n",
    "            if df[df.columns[i]][j] < min:\n",
    "                min = df[df.columns[i]][j]\n",
    "                col = i\n",
    "                row = j\n",
    "    # return [str(x).ljust(10) for x in [min, row, col-1]]\n",
    "    return [str(x)[:4] for x in [min]]\n",
    "\n",
    "\n",
    "source = '/Users/HQ/orange/Reza/TF/HADDOCK/' #14-two-sided-dummy-contacts/'\n",
    "systems = sorted([i for i in os.listdir(source) if '.' not in i])\n",
    "systems = ['1a74', '1azp', '1by4', '1bgb',  '2b0d', '1cdw', '1dh3', '1jj4', '1r4o', '1r4r', '1zme', '2r1j', '3cro', '1ysa', '2dgc']\n",
    "\n",
    "for system in systems:\n",
    "    os.chdir(source+system+'/')\n",
    "    whole = pd.read_csv('rmsd00-pd.dat', delim_whitespace=True)\n",
    "    clusters = pd.read_csv('rmsd-clusters-pd.dat', delim_whitespace=True)\n",
    "    clusters = clusters[:5]\n",
    "    print(system + '    ' + str(clusters.iloc[0,1]) + '    ' + find_lowest_RMSD(clusters)[0] + '    ' + find_lowest_RMSD(whole)[0])\n"
   ]
  },
  {
   "cell_type": "code",
   "execution_count": null,
   "metadata": {},
   "outputs": [],
   "source": []
  }
 ],
 "metadata": {
  "kernelspec": {
   "display_name": "Python 3.9.13 64-bit",
   "language": "python",
   "name": "python3"
  },
  "language_info": {
   "codemirror_mode": {
    "name": "ipython",
    "version": 3
   },
   "file_extension": ".py",
   "mimetype": "text/x-python",
   "name": "python",
   "nbconvert_exporter": "python",
   "pygments_lexer": "ipython3",
   "version": "3.9.13"
  },
  "orig_nbformat": 4,
  "vscode": {
   "interpreter": {
    "hash": "a665b5d41d17b532ea9890333293a1b812fa0b73c9c25c950b3cedf1bebd0438"
   }
  }
 },
 "nbformat": 4,
 "nbformat_minor": 2
}
